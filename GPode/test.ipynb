{
 "cells": [
  {
   "cell_type": "code",
   "execution_count": 2,
   "metadata": {},
   "outputs": [],
   "source": [
    "import torch\n",
    "import torch.nn as nn\n",
    "import numpy as np\n",
    "dtype = torch.float64\n",
    "device = torch.device('cuda' if torch.cuda.is_available() else 'cpu')\n",
    "\n",
    "from damped_pendulum import DampedPendulum\n",
    "from gpode           import GPODE\n",
    "from helpers         import fit_model, plot_fit, integrate"
   ]
  },
  {
   "cell_type": "code",
   "execution_count": 3,
   "metadata": {},
   "outputs": [],
   "source": [
    "# data generation\n",
    "n   = 2   # observation dimensionality\n",
    "N   = 10  # number of training sequences\n",
    "T   = 25  # the length of each sequence\n",
    "dt  = 0.1 # time difference between each observation pair\n",
    "sig = 0.1 # standard deviation of the observation noise"
   ]
  },
  {
   "cell_type": "code",
   "execution_count": 4,
   "metadata": {},
   "outputs": [],
   "source": [
    "unknown_parametric_ode = DampedPendulum(alpha=0.1, omega_0=1.0)"
   ]
  },
  {
   "cell_type": "code",
   "execution_count": 9,
   "metadata": {},
   "outputs": [],
   "source": [
    "with torch.no_grad():\n",
    "    ts = torch.arange(T, dtype=dtype, device=device) * dt\n",
    "    x0 = torch.randn([N,n], dtype=dtype, device=device)\n",
    "    X  = integrate(unknown_parametric_ode.odef, x0, ts)  # clean data sequences, [T,N,n]\n",
    "    Y  = X + torch.randn_like(X)*sig\n",
    "del unknown_parametric_ode"
   ]
  },
  {
   "cell_type": "code",
   "execution_count": 10,
   "metadata": {},
   "outputs": [],
   "source": [
    "ode_model = GPODE(n, n).to(device).to(dtype)"
   ]
  },
  {
   "cell_type": "code",
   "execution_count": 11,
   "metadata": {},
   "outputs": [],
   "source": [
    "plot_fit(ode_model, Y[:,:3], ts, fname='before-fit.png') "
   ]
  },
  {
   "cell_type": "code",
   "execution_count": null,
   "metadata": {},
   "outputs": [],
   "source": [
    "fit_model(ode_model, Y, ts, Niter=2000, lr=5e-3)"
   ]
  },
  {
   "cell_type": "code",
   "execution_count": 13,
   "metadata": {},
   "outputs": [],
   "source": [
    "Ntrain = Y.shape[1]"
   ]
  },
  {
   "cell_type": "code",
   "execution_count": 15,
   "metadata": {},
   "outputs": [],
   "source": [
    "idx  = torch.randperm(Ntrain)[:5] "
   ]
  },
  {
   "cell_type": "code",
   "execution_count": 17,
   "metadata": {},
   "outputs": [],
   "source": [
    "Y_minibatch = Y[:,idx]"
   ]
  },
  {
   "cell_type": "code",
   "execution_count": 19,
   "metadata": {},
   "outputs": [
    {
     "data": {
      "text/plain": [
       "torch.Size([25, 5, 2])"
      ]
     },
     "execution_count": 19,
     "metadata": {},
     "output_type": "execute_result"
    }
   ],
   "source": [
    "Y_minibatch.shape"
   ]
  },
  {
   "cell_type": "code",
   "execution_count": 18,
   "metadata": {},
   "outputs": [
    {
     "data": {
      "text/plain": [
       "torch.Size([5, 2])"
      ]
     },
     "execution_count": 18,
     "metadata": {},
     "output_type": "execute_result"
    }
   ],
   "source": [
    "Y_minibatch[0].shape"
   ]
  },
  {
   "cell_type": "code",
   "execution_count": 22,
   "metadata": {},
   "outputs": [],
   "source": [
    "gp_draw = ode_model.sgp.draw_posterior_function()"
   ]
  },
  {
   "cell_type": "code",
   "execution_count": 24,
   "metadata": {},
   "outputs": [],
   "source": [
    "odef = lambda t,x: gp_draw(x)"
   ]
  },
  {
   "cell_type": "code",
   "execution_count": 26,
   "metadata": {},
   "outputs": [
    {
     "data": {
      "text/plain": [
       "tensor([[ 0.7894,  0.8204],\n",
       "        [ 0.4324,  0.7965],\n",
       "        [-0.3719, -0.3529],\n",
       "        [ 0.4023,  0.2751],\n",
       "        [ 0.0231,  0.7735]], device='cuda:0', dtype=torch.float64,\n",
       "       grad_fn=<SqueezeBackward1>)"
      ]
     },
     "execution_count": 26,
     "metadata": {},
     "output_type": "execute_result"
    }
   ],
   "source": [
    "gp_draw(Y_minibatch[0])"
   ]
  },
  {
   "cell_type": "code",
   "execution_count": 28,
   "metadata": {},
   "outputs": [],
   "source": [
    "omega,tau,w,nu = ode_model.sgp.cache(100,1)"
   ]
  },
  {
   "cell_type": "code",
   "execution_count": 31,
   "metadata": {},
   "outputs": [],
   "source": [
    "prior = ode_model.sgp.rff(Y_minibatch[0], omega, tau, w) "
   ]
  },
  {
   "cell_type": "code",
   "execution_count": 34,
   "metadata": {},
   "outputs": [
    {
     "data": {
      "text/plain": [
       "torch.Size([50, 2])"
      ]
     },
     "execution_count": 34,
     "metadata": {},
     "output_type": "execute_result"
    }
   ],
   "source": [
    "ode_model.sgp.Z.shape"
   ]
  },
  {
   "cell_type": "code",
   "execution_count": 35,
   "metadata": {},
   "outputs": [],
   "source": [
    "Kxz = ode_model.sgp.covar_module(Y_minibatch[0],ode_model.sgp.Z).evaluate()"
   ]
  },
  {
   "cell_type": "code",
   "execution_count": 39,
   "metadata": {},
   "outputs": [],
   "source": [
    "Kxz = Kxz.unsqueeze(0).repeat([1,1,1,1]).permute(0,3,2,1)"
   ]
  },
  {
   "cell_type": "code",
   "execution_count": 40,
   "metadata": {},
   "outputs": [
    {
     "data": {
      "text/plain": [
       "torch.Size([1, 50, 5, 2])"
      ]
     },
     "execution_count": 40,
     "metadata": {},
     "output_type": "execute_result"
    }
   ],
   "source": [
    "Kxz.shape"
   ]
  },
  {
   "cell_type": "code",
   "execution_count": 20,
   "metadata": {},
   "outputs": [],
   "source": [
    "Yhat = ode_model.forward_trajectory(Y_minibatch[0], ts)"
   ]
  },
  {
   "cell_type": "code",
   "execution_count": 21,
   "metadata": {},
   "outputs": [
    {
     "data": {
      "text/plain": [
       "torch.Size([25, 5, 2])"
      ]
     },
     "execution_count": 21,
     "metadata": {},
     "output_type": "execute_result"
    }
   ],
   "source": [
    "Yhat.shape"
   ]
  },
  {
   "cell_type": "code",
   "execution_count": 43,
   "metadata": {},
   "outputs": [
    {
     "name": "stdout",
     "output_type": "stream",
     "text": [
      "998.5423088948949\n",
      "845.0763302528649\n"
     ]
    },
    {
     "ename": "KeyboardInterrupt",
     "evalue": "",
     "output_type": "error",
     "traceback": [
      "\u001b[0;31m---------------------------------------------------------------------------\u001b[0m",
      "\u001b[0;31mKeyboardInterrupt\u001b[0m                         Traceback (most recent call last)",
      "\u001b[1;32m/home/ilze/PhD/OdeVaeGP/GPode/test.ipynb Cell 24\u001b[0m in \u001b[0;36m<cell line: 1>\u001b[0;34m()\u001b[0m\n\u001b[0;32m----> <a href='vscode-notebook-cell:/home/ilze/PhD/OdeVaeGP/GPode/test.ipynb#ch0000027?line=0'>1</a>\u001b[0m fit_model(ode_model, Y, ts, Niter\u001b[39m=\u001b[39;49m\u001b[39m2000\u001b[39;49m, lr\u001b[39m=\u001b[39;49m\u001b[39m5e-3\u001b[39;49m)\n",
      "File \u001b[0;32m~/PhD/OdeVaeGP/GPode/helpers.py:64\u001b[0m, in \u001b[0;36mfit_model\u001b[0;34m(model, Y, ts, lr, Niter, print_every)\u001b[0m\n\u001b[1;32m     62\u001b[0m idx  \u001b[39m=\u001b[39m torch\u001b[39m.\u001b[39mrandperm(Ntrain)[:\u001b[39m5\u001b[39m] \n\u001b[1;32m     63\u001b[0m Y_minibatch \u001b[39m=\u001b[39m Y[:,idx]\n\u001b[0;32m---> 64\u001b[0m Yhat \u001b[39m=\u001b[39m model\u001b[39m.\u001b[39;49mforward_trajectory(Y_minibatch[\u001b[39m0\u001b[39;49m], ts)\n\u001b[1;32m     65\u001b[0m loss \u001b[39m=\u001b[39m model\u001b[39m.\u001b[39mloss(Y_minibatch, Yhat, Ntrain)\n\u001b[1;32m     66\u001b[0m loss\u001b[39m.\u001b[39mbackward()\n",
      "File \u001b[0;32m~/PhD/OdeVaeGP/GPode/gpode.py:73\u001b[0m, in \u001b[0;36mGPODE.forward_trajectory\u001b[0;34m(self, x0, ts)\u001b[0m\n\u001b[1;32m     71\u001b[0m gp_draw \u001b[39m=\u001b[39m \u001b[39mself\u001b[39m\u001b[39m.\u001b[39msgp\u001b[39m.\u001b[39mdraw_posterior_function()\n\u001b[1;32m     72\u001b[0m odef \u001b[39m=\u001b[39m \u001b[39mlambda\u001b[39;00m t,x: gp_draw(x)\n\u001b[0;32m---> 73\u001b[0m \u001b[39mreturn\u001b[39;00m integrate(odef, x0, ts)\n",
      "File \u001b[0;32m~/PhD/OdeVaeGP/GPode/helpers.py:33\u001b[0m, in \u001b[0;36mintegrate\u001b[0;34m(f, x0, T, solver)\u001b[0m\n\u001b[1;32m     31\u001b[0m     t  \u001b[39m=\u001b[39m T[i]\n\u001b[1;32m     32\u001b[0m     x  \u001b[39m=\u001b[39m X[i]\n\u001b[0;32m---> 33\u001b[0m     x_next \u001b[39m=\u001b[39m x \u001b[39m+\u001b[39m step_fnc(f,h,t,x)\n\u001b[1;32m     34\u001b[0m     X\u001b[39m.\u001b[39mappend(x_next)\n\u001b[1;32m     35\u001b[0m X \u001b[39m=\u001b[39m torch\u001b[39m.\u001b[39mstack(X) \u001b[39m# T,N,d\u001b[39;00m\n",
      "File \u001b[0;32m~/PhD/OdeVaeGP/GPode/helpers.py:18\u001b[0m, in \u001b[0;36mrk4_step\u001b[0;34m(f, h, t, x)\u001b[0m\n\u001b[1;32m     16\u001b[0m k1 \u001b[39m=\u001b[39m h \u001b[39m*\u001b[39m (f(t, x))\n\u001b[1;32m     17\u001b[0m k2 \u001b[39m=\u001b[39m h \u001b[39m*\u001b[39m (f((t\u001b[39m+\u001b[39mh\u001b[39m/\u001b[39m\u001b[39m2\u001b[39m), (x\u001b[39m+\u001b[39mk1\u001b[39m/\u001b[39m\u001b[39m2\u001b[39m)))\n\u001b[0;32m---> 18\u001b[0m k3 \u001b[39m=\u001b[39m h \u001b[39m*\u001b[39m (f((t\u001b[39m+\u001b[39;49mh\u001b[39m/\u001b[39;49m\u001b[39m2\u001b[39;49m), (x\u001b[39m+\u001b[39;49mk2\u001b[39m/\u001b[39;49m\u001b[39m2\u001b[39;49m)))\n\u001b[1;32m     19\u001b[0m k4 \u001b[39m=\u001b[39m h \u001b[39m*\u001b[39m (f((t\u001b[39m+\u001b[39mh), (x\u001b[39m+\u001b[39mk3)))\n\u001b[1;32m     20\u001b[0m \u001b[39mreturn\u001b[39;00m (k1\u001b[39m+\u001b[39m\u001b[39m2\u001b[39m\u001b[39m*\u001b[39mk2\u001b[39m+\u001b[39m\u001b[39m2\u001b[39m\u001b[39m*\u001b[39mk3\u001b[39m+\u001b[39mk4) \u001b[39m/\u001b[39m \u001b[39m6\u001b[39m\n",
      "File \u001b[0;32m~/PhD/OdeVaeGP/GPode/gpode.py:72\u001b[0m, in \u001b[0;36mGPODE.forward_trajectory.<locals>.<lambda>\u001b[0;34m(t, x)\u001b[0m\n\u001b[1;32m     70\u001b[0m \u001b[39mdef\u001b[39;00m \u001b[39mforward_trajectory\u001b[39m(\u001b[39mself\u001b[39m, x0, ts):\n\u001b[1;32m     71\u001b[0m     gp_draw \u001b[39m=\u001b[39m \u001b[39mself\u001b[39m\u001b[39m.\u001b[39msgp\u001b[39m.\u001b[39mdraw_posterior_function()\n\u001b[0;32m---> 72\u001b[0m     odef \u001b[39m=\u001b[39m \u001b[39mlambda\u001b[39;00m t,x: gp_draw(x)\n\u001b[1;32m     73\u001b[0m     \u001b[39mreturn\u001b[39;00m integrate(odef, x0, ts)\n",
      "File \u001b[0;32m~/PhD/OdeVaeGP/GPode/sgp.py:185\u001b[0m, in \u001b[0;36mSGP.draw_posterior_function.<locals>.f\u001b[0;34m(x)\u001b[0m\n\u001b[1;32m    181\u001b[0m \u001b[39m''' x - evaluation points [N,n] \u001b[39;00m\n\u001b[1;32m    182\u001b[0m \u001b[39m    returns - function outputs [N,nout] or [P,N,nout]\u001b[39;00m\n\u001b[1;32m    183\u001b[0m \u001b[39m'''\u001b[39;00m\n\u001b[1;32m    184\u001b[0m N \u001b[39m=\u001b[39m x\u001b[39m.\u001b[39mshape[\u001b[39m0\u001b[39m]\n\u001b[0;32m--> 185\u001b[0m prior \u001b[39m=\u001b[39m \u001b[39mself\u001b[39;49m\u001b[39m.\u001b[39;49mrff(x, omega, tau, w) \u001b[39m# P,N,nout\u001b[39;00m\n\u001b[1;32m    186\u001b[0m Kxz \u001b[39m=\u001b[39m \u001b[39mself\u001b[39m\u001b[39m.\u001b[39mcovar_module(x,\u001b[39mself\u001b[39m\u001b[39m.\u001b[39mZ)\u001b[39m.\u001b[39mevaluate() \u001b[39m# nout,N,M\u001b[39;00m\n\u001b[1;32m    187\u001b[0m Kxz \u001b[39m=\u001b[39m Kxz\u001b[39m.\u001b[39munsqueeze(\u001b[39m0\u001b[39m)\u001b[39m.\u001b[39mrepeat([P,\u001b[39m1\u001b[39m,\u001b[39m1\u001b[39m,\u001b[39m1\u001b[39m])\u001b[39m.\u001b[39mpermute(\u001b[39m0\u001b[39m,\u001b[39m3\u001b[39m,\u001b[39m2\u001b[39m,\u001b[39m1\u001b[39m) \u001b[39m# P,M,N,nout\u001b[39;00m\n",
      "File \u001b[0;32m~/PhD/OdeVaeGP/GPode/sgp.py:148\u001b[0m, in \u001b[0;36mSGP.rff\u001b[0;34m(self, x, omega, bias, w)\u001b[0m\n\u001b[1;32m    146\u001b[0m out_scale \u001b[39m=\u001b[39m np\u001b[39m.\u001b[39msqrt(\u001b[39m2\u001b[39m\u001b[39m/\u001b[39momega\u001b[39m.\u001b[39mshape[\u001b[39m1\u001b[39m]) \u001b[39m*\u001b[39m \u001b[39mself\u001b[39m\u001b[39m.\u001b[39msf\u001b[39m.\u001b[39msqrt()\u001b[39m.\u001b[39mreshape(\u001b[39m1\u001b[39m,\u001b[39m1\u001b[39m,nout,\u001b[39m1\u001b[39m)\n\u001b[1;32m    147\u001b[0m phi       \u001b[39m=\u001b[39m features \u001b[39m*\u001b[39m out_scale \u001b[39m# P,S,nout,N\u001b[39;00m\n\u001b[0;32m--> 148\u001b[0m \u001b[39mreturn\u001b[39;00m (phi\u001b[39m*\u001b[39;49mw)\u001b[39m.\u001b[39;49msum(\u001b[39m1\u001b[39;49m)\u001b[39m.\u001b[39mpermute(\u001b[39m0\u001b[39m,\u001b[39m2\u001b[39m,\u001b[39m1\u001b[39m)\n",
      "\u001b[0;31mKeyboardInterrupt\u001b[0m: "
     ]
    }
   ],
   "source": [
    "fit_model(ode_model, Y, ts, Niter=2000, lr=5e-3)"
   ]
  }
 ],
 "metadata": {
  "kernelspec": {
   "display_name": "venv3.8",
   "language": "python",
   "name": "venv3.8"
  },
  "language_info": {
   "codemirror_mode": {
    "name": "ipython",
    "version": 3
   },
   "file_extension": ".py",
   "mimetype": "text/x-python",
   "name": "python",
   "nbconvert_exporter": "python",
   "pygments_lexer": "ipython3",
   "version": "3.8.13"
  },
  "orig_nbformat": 4,
  "vscode": {
   "interpreter": {
    "hash": "916dbcbb3f70747c44a77c7bcd40155683ae19c65e1c03b4aa3499c5328201f1"
   }
  }
 },
 "nbformat": 4,
 "nbformat_minor": 2
}
