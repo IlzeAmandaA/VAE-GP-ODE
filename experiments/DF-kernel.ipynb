{
 "cells": [
  {
   "cell_type": "markdown",
   "metadata": {},
   "source": [
    "# Plotting Kernel Priors"
   ]
  },
  {
   "cell_type": "code",
   "execution_count": 1,
   "metadata": {},
   "outputs": [
    {
     "name": "stderr",
     "output_type": "stream",
     "text": [
      "2022-09-26 14:05:35.865589: I tensorflow/stream_executor/platform/default/dso_loader.cc:49] Successfully opened dynamic library libcudart.so.11.0\n"
     ]
    }
   ],
   "source": [
    "import math\n",
    "import torch\n",
    "import gpflow\n",
    "from matplotlib import pyplot as plt\n",
    "import numpy as np"
   ]
  },
  {
   "cell_type": "code",
   "execution_count": 2,
   "metadata": {},
   "outputs": [],
   "source": [
    "def get_observations(exp_name=\"circle\", n_observations=8):\n",
    "    \"\"\"\n",
    "    Get observations for the bean or circle experiment\n",
    "    \"\"\"\n",
    "    u = v = yu = yv = None\n",
    "    if exp_name not in [\"bean\", \"circle\"]:\n",
    "        print(\"Currently only bean and circle experiments are supported\")\n",
    "        return u, v, yu, yv\n",
    "\n",
    "    if exp_name == \"circle\":\n",
    "        u = 0.5 * np.cos(np.linspace(-np.pi, np.pi, n_observations))\n",
    "        v = 0.5 * np.sin(np.linspace(-np.pi, np.pi, n_observations))\n",
    "\n",
    "        yu = np.sin(np.linspace(-np.pi, np.pi, n_observations))\n",
    "        yv = -np.cos(np.linspace(-np.pi, np.pi, n_observations))\n",
    "\n",
    "    elif exp_name == \"bean\":\n",
    "        a = 1\n",
    "        th = np.linspace(0, np.pi, 63).T\n",
    "        r = a * np.sin(th) ** 3 + a * np.cos(th) ** 3\n",
    "        u = r * np.cos(th) - 0.3\n",
    "        v = r * np.sin(th) - 0.3\n",
    "\n",
    "        yu = np.diff(u)\n",
    "        yv = np.diff(v)\n",
    "\n",
    "        n = 63//n_observations\n",
    "\n",
    "        u = u[::n]\n",
    "        v = v[::n]\n",
    "\n",
    "        yu = yu[::n] * 10\n",
    "        yv = yv[::n] * 10\n",
    "\n",
    "    return u, v, yu, yv"
   ]
  },
  {
   "cell_type": "code",
   "execution_count": 3,
   "metadata": {},
   "outputs": [],
   "source": [
    "x_cr, y_cr, u_cr, v_cr = get_observations(\"circle\", 10)\n",
    "\n",
    "circle_pnts = np.concatenate((x_cr.reshape((-1,1)), y_cr.reshape((-1, 1))), axis=1)\n",
    "\n",
    "y_labels = np.concatenate((u_cr.reshape((-1,1)), v_cr.reshape((-1,1))), axis=1)\n",
    "data = (circle_pnts, y_labels)"
   ]
  },
  {
   "cell_type": "code",
   "execution_count": 4,
   "metadata": {},
   "outputs": [
    {
     "data": {
      "image/png": "[encoded data removed]",
      "text/plain": [
       "<Figure size 360x360 with 1 Axes>"
      ]
     },
     "metadata": {
      "needs_background": "light"
     },
     "output_type": "display_data"
    }
   ],
   "source": [
    "fig, axs = plt.subplots(1, 1, figsize=(5, 5))\n",
    "axs.set_aspect(\"equal\", adjustable=\"box\")\n",
    "\n",
    "plt.quiver(x_cr, y_cr, u_cr, v_cr, color=\"red\", width=0.008)\n",
    "\n",
    "plt.xlim(-1, 1)\n",
    "plt.ylim(-1, 1)\n",
    "plt.show()"
   ]
  },
  {
   "cell_type": "markdown",
   "metadata": {},
   "source": [
    "## Divergence Free Kernel"
   ]
  },
  {
   "cell_type": "markdown",
   "metadata": {},
   "source": [
    "## Model "
   ]
  },
  {
   "cell_type": "code",
   "execution_count": 5,
   "metadata": {},
   "outputs": [],
   "source": [
    "import gpytorch\n",
    "from model.core.kernels import DivergenceFreeKernel, RBF"
   ]
  },
  {
   "cell_type": "code",
   "execution_count": 6,
   "metadata": {},
   "outputs": [],
   "source": [
    "class MultitaskGPModel(gpytorch.models.ExactGP):\n",
    "    def __init__(self, train_x, train_y, likelihood):\n",
    "        super(MultitaskGPModel, self).__init__(train_x, train_y, likelihood)\n",
    "        self.mean_module = gpytorch.means.MultitaskMean(\n",
    "            gpytorch.means.ConstantMean(), num_tasks=2\n",
    "        )\n",
    "        self.covar_module = DivergenceFreeKernel(train_x.shape[1], train_y.shape[1])\n",
    "\n",
    "    def forward(self, x):\n",
    "        mean_x = self.mean_module(x) #*torch.eye(x.shape[0])\n",
    "        covar_x = self.covar_module(x)\n",
    "        print(mean_x.shape)\n",
    "        print(covar_x.shape)\n",
    "        return gpytorch.distributions.MultitaskMultivariateNormal(mean_x, covar_x)\n"
   ]
  },
  {
   "cell_type": "code",
   "execution_count": 7,
   "metadata": {},
   "outputs": [],
   "source": [
    "x = np.linspace(-1, 1, 20)\n",
    "y = np.linspace(-1, 1, 20)\n",
    "xx, yy = np.meshgrid(x, y)\n",
    "zz = np.hstack((xx.reshape(-1, 1), yy.reshape(-1, 1)))"
   ]
  },
  {
   "cell_type": "code",
   "execution_count": 8,
   "metadata": {},
   "outputs": [],
   "source": [
    "train_x = torch.from_numpy(circle_pnts)\n",
    "train_y = torch.from_numpy(y_labels)\n",
    "test_z = torch.from_numpy(zz)"
   ]
  },
  {
   "cell_type": "code",
   "execution_count": 9,
   "metadata": {},
   "outputs": [],
   "source": [
    "k_lengthscale = 0.2\n",
    "k_variance = 0.1"
   ]
  },
  {
   "cell_type": "code",
   "execution_count": 11,
   "metadata": {},
   "outputs": [],
   "source": [
    "# initialize likelihood and model\n",
    "likelihood = gpytorch.likelihoods.MultitaskGaussianLikelihood(num_tasks=2)\n",
    "model = MultitaskGPModel(train_x, train_y, likelihood)"
   ]
  },
  {
   "cell_type": "code",
   "execution_count": 13,
   "metadata": {},
   "outputs": [],
   "source": [
    "# Find optimal model hyperparameters\n",
    "model.train()\n",
    "likelihood.train()\n",
    "\n",
    "# Use the adam optimizer\n",
    "optimizer = torch.optim.Adam(model.parameters(), lr=0.1)  # Includes GaussianLikelihood parameters\n",
    "\n",
    "# \"Loss\" for GPs - the marginal log likelihood\n",
    "mll = gpytorch.mlls.ExactMarginalLogLikelihood(likelihood, model)"
   ]
  },
  {
   "cell_type": "markdown",
   "metadata": {},
   "source": [
    "f_predict()\n",
    "p(F* | Y)"
   ]
  },
  {
   "cell_type": "code",
   "execution_count": 39,
   "metadata": {},
   "outputs": [],
   "source": [
    "P =train_x.shape[1]\n",
    "N = train_x.shape[0]\n",
    "M = test_z.shape[0]\n",
    "R = test_z.shape[1]\n",
    "\n",
    "dim = N * P\n",
    "dim_new_data = M * R"
   ]
  },
  {
   "cell_type": "code",
   "execution_count": 33,
   "metadata": {},
   "outputs": [],
   "source": [
    "kmm = model.covar_module(train_x)\n",
    "knn = model.covar_module(test_z, full_output_cov=True)\n",
    "kmn = model.covar_module(train_x, test_z, full_output_cov=True)  # Change"
   ]
  },
  {
   "cell_type": "code",
   "execution_count": 34,
   "metadata": {},
   "outputs": [],
   "source": [
    "dim = N * P\n",
    "kmm = torch.reshape(kmm, (dim, dim))\n",
    "knn = torch.reshape(knn, (dim_new_data, dim_new_data))\n",
    "kmn = torch.reshape(kmn, (dim, dim_new_data))"
   ]
  },
  {
   "cell_type": "code",
   "execution_count": 36,
   "metadata": {},
   "outputs": [],
   "source": [
    "num_data = P * N  # Change\n",
    "s = torch.eye(num_data)*0.1 #tf.linalg.diag(tf.fill([num_data], self.likelihood.variance))"
   ]
  },
  {
   "cell_type": "code",
   "execution_count": 42,
   "metadata": {},
   "outputs": [],
   "source": [
    "# Change\n",
    "X_data_t = train_x.repeat(P,1)\n",
    "X_data_t = torch.reshape(X_data_t, (dim, -1))\n",
    "Y_data_t = torch.reshape(train_y, (dim, -1))"
   ]
  },
  {
   "cell_type": "code",
   "execution_count": 44,
   "metadata": {},
   "outputs": [],
   "source": [
    "err = Y_data_t"
   ]
  },
  {
   "cell_type": "markdown",
   "metadata": {},
   "source": [
    "TO BE IMPLEMENTED CONDITIONAL "
   ]
  },
  {
   "cell_type": "markdown",
   "metadata": {},
   "source": [
    "f_mean_zero, f_var = conditional(\n",
    "            kmn, kmm + s, knn, err, full_cov=True, white=False\n",
    "        )"
   ]
  },
  {
   "cell_type": "code",
   "execution_count": 37,
   "metadata": {},
   "outputs": [],
   "source": [
    "Lm = torch.linalg.cholesky(kmm+s)"
   ]
  },
  {
   "cell_type": "code",
   "execution_count": 49,
   "metadata": {},
   "outputs": [
    {
     "data": {
      "text/plain": [
       "torch.Size([20, 800])"
      ]
     },
     "execution_count": 49,
     "metadata": {},
     "output_type": "execute_result"
    }
   ],
   "source": [
    "kmn.shape"
   ]
  },
  {
   "cell_type": "code",
   "execution_count": 50,
   "metadata": {},
   "outputs": [
    {
     "name": "stderr",
     "output_type": "stream",
     "text": [
      "/tmp/ipykernel_2350166/4271767458.py:1: UserWarning: torch.range is deprecated and will be removed in a future release because its behavior is inconsistent with Python's range builtin. Instead, use torch.arange, which produces values in [start, end).\n",
      "  torch.range(1, K - 1)\n"
     ]
    },
    {
     "data": {
      "text/plain": [
       "tensor([1.])"
      ]
     },
     "execution_count": 50,
     "metadata": {},
     "output_type": "execute_result"
    }
   ],
   "source": [
    "torch.range(1, K - 1)"
   ]
  },
  {
   "cell_type": "code",
   "execution_count": 45,
   "metadata": {},
   "outputs": [
    {
     "name": "stderr",
     "output_type": "stream",
     "text": [
      "/tmp/ipykernel_2350166/3837505624.py:11: UserWarning: torch.range is deprecated and will be removed in a future release because its behavior is inconsistent with Python's range builtin. Instead, use torch.arange, which produces values in [start, end).\n",
      "  torch.reshape(torch.range(1, K - 1), [K - 2]),  # leading dims (...)\n"
     ]
    },
    {
     "ename": "RuntimeError",
     "evalue": "shape '[0]' is invalid for input of size 1",
     "output_type": "error",
     "traceback": [
      "\u001b[0;31m---------------------------------------------------------------------------\u001b[0m",
      "\u001b[0;31mRuntimeError\u001b[0m                              Traceback (most recent call last)",
      "\u001b[1;32m/home/ilze/PhD/OdeVaeGP/experiments/DF-kernel.ipynb Cell 24\u001b[0m in \u001b[0;36m<cell line: 9>\u001b[0;34m()\u001b[0m\n\u001b[1;32m      <a href='vscode-notebook-cell:/home/ilze/PhD/OdeVaeGP/experiments/DF-kernel.ipynb#Y103sZmlsZQ%3D%3D?line=5'>6</a>\u001b[0m \u001b[39m# get the leading dims in Kmn to the front of the tensor\u001b[39;00m\n\u001b[1;32m      <a href='vscode-notebook-cell:/home/ilze/PhD/OdeVaeGP/experiments/DF-kernel.ipynb#Y103sZmlsZQ%3D%3D?line=6'>7</a>\u001b[0m \u001b[39m# if Kmn has rank two, i.e. [M, N], this is the identity op.\u001b[39;00m\n\u001b[1;32m      <a href='vscode-notebook-cell:/home/ilze/PhD/OdeVaeGP/experiments/DF-kernel.ipynb#Y103sZmlsZQ%3D%3D?line=7'>8</a>\u001b[0m K \u001b[39m=\u001b[39m \u001b[39mlen\u001b[39m(\u001b[39mlist\u001b[39m(kmn\u001b[39m.\u001b[39mshape))\n\u001b[1;32m      <a href='vscode-notebook-cell:/home/ilze/PhD/OdeVaeGP/experiments/DF-kernel.ipynb#Y103sZmlsZQ%3D%3D?line=8'>9</a>\u001b[0m perm \u001b[39m=\u001b[39m torch\u001b[39m.\u001b[39mconcat(\n\u001b[1;32m     <a href='vscode-notebook-cell:/home/ilze/PhD/OdeVaeGP/experiments/DF-kernel.ipynb#Y103sZmlsZQ%3D%3D?line=9'>10</a>\u001b[0m     [\n\u001b[0;32m---> <a href='vscode-notebook-cell:/home/ilze/PhD/OdeVaeGP/experiments/DF-kernel.ipynb#Y103sZmlsZQ%3D%3D?line=10'>11</a>\u001b[0m         torch\u001b[39m.\u001b[39;49mreshape(torch\u001b[39m.\u001b[39;49mrange(\u001b[39m1\u001b[39;49m, K \u001b[39m-\u001b[39;49m \u001b[39m1\u001b[39;49m), [K \u001b[39m-\u001b[39;49m \u001b[39m2\u001b[39;49m]),  \u001b[39m# leading dims (...)\u001b[39;00m\n\u001b[1;32m     <a href='vscode-notebook-cell:/home/ilze/PhD/OdeVaeGP/experiments/DF-kernel.ipynb#Y103sZmlsZQ%3D%3D?line=11'>12</a>\u001b[0m         torch\u001b[39m.\u001b[39mreshape(\u001b[39m0\u001b[39m, [\u001b[39m1\u001b[39m]),  \u001b[39m# [M]\u001b[39;00m\n\u001b[1;32m     <a href='vscode-notebook-cell:/home/ilze/PhD/OdeVaeGP/experiments/DF-kernel.ipynb#Y103sZmlsZQ%3D%3D?line=12'>13</a>\u001b[0m         torch\u001b[39m.\u001b[39mreshape(K \u001b[39m-\u001b[39m \u001b[39m1\u001b[39m, [\u001b[39m1\u001b[39m]),\n\u001b[1;32m     <a href='vscode-notebook-cell:/home/ilze/PhD/OdeVaeGP/experiments/DF-kernel.ipynb#Y103sZmlsZQ%3D%3D?line=13'>14</a>\u001b[0m     ],\n\u001b[1;32m     <a href='vscode-notebook-cell:/home/ilze/PhD/OdeVaeGP/experiments/DF-kernel.ipynb#Y103sZmlsZQ%3D%3D?line=14'>15</a>\u001b[0m     \u001b[39m0\u001b[39m,\n\u001b[1;32m     <a href='vscode-notebook-cell:/home/ilze/PhD/OdeVaeGP/experiments/DF-kernel.ipynb#Y103sZmlsZQ%3D%3D?line=15'>16</a>\u001b[0m )  \u001b[39m# [N]\u001b[39;00m\n\u001b[1;32m     <a href='vscode-notebook-cell:/home/ilze/PhD/OdeVaeGP/experiments/DF-kernel.ipynb#Y103sZmlsZQ%3D%3D?line=16'>17</a>\u001b[0m Kmn \u001b[39m=\u001b[39m torch\u001b[39m.\u001b[39mpermute(kmn, perm)  \u001b[39m# [..., M, N]\u001b[39;00m\n\u001b[1;32m     <a href='vscode-notebook-cell:/home/ilze/PhD/OdeVaeGP/experiments/DF-kernel.ipynb#Y103sZmlsZQ%3D%3D?line=18'>19</a>\u001b[0m leading_dims \u001b[39m=\u001b[39m kmn\u001b[39m.\u001b[39mshape[:\u001b[39m-\u001b[39m\u001b[39m2\u001b[39m]\n",
      "\u001b[0;31mRuntimeError\u001b[0m: shape '[0]' is invalid for input of size 1"
     ]
    }
   ],
   "source": [
    "#compute kernel stuff\n",
    "num_func = err.shape[-1]  # R\n",
    "N = kmn.shape[-1]\n",
    "M = err.shape[-2]\n",
    "\n",
    "# get the leading dims in Kmn to the front of the tensor\n",
    "# if Kmn has rank two, i.e. [M, N], this is the identity op.\n",
    "K = len(list(kmn.shape))\n",
    "perm = torch.concat(\n",
    "    [\n",
    "        torch.reshape(torch.range(1, K - 1), [K - 2]),  # leading dims (...)\n",
    "        torch.reshape(0, [1]),  # [M]\n",
    "        torch.reshape(K - 1, [1]),\n",
    "    ],\n",
    "    0,\n",
    ")  # [N]\n",
    "Kmn = torch.permute(kmn, perm)  # [..., M, N]\n",
    "\n",
    "leading_dims = kmn.shape[:-2]"
   ]
  },
  {
   "cell_type": "code",
   "execution_count": null,
   "metadata": {},
   "outputs": [],
   "source": [
    "#https://github.com/GPflow/GPflow/blob/develop/gpflow/conditionals/util.py\n",
    "# https://github.com/GPflow/GPflow/blob/60afe7a8e8f6daf46ef787c707c8cb9a9aca1118/gpflow/conditionals/util.py#L84\n",
    "\n",
    "#compute kernel stuff\n",
    "num_func = err.shape[-1]  # R\n",
    "N = kmn.shape[-1]\n",
    "M = err.shape[-2]\n",
    "\n",
    "# get the leading dims in Kmn to the front of the tensor\n",
    "# if Kmn has rank two, i.e. [M, N], this is the identity op.\n",
    "K = len(list(kmn.shape))\n",
    "perm = torch.concat(\n",
    "    [\n",
    "        torch.reshape(torch.range(1, K - 1), [K - 2]),  # leading dims (...)\n",
    "        torch.reshape(0, [1]),  # [M]\n",
    "        torch.reshape(K - 1, [1]),\n",
    "    ],\n",
    "    0,\n",
    ")  # [N]\n",
    "Kmn = torch.permute(kmn, perm)  # [..., M, N]\n",
    "\n",
    "leading_dims = kmn.shape[:-2]\n",
    "\n",
    "# Compute the projection matrix A\n",
    "Lm = tf.broadcast_to(Lm, tf.concat([leading_dims, tf.shape(Lm)], 0))  # [..., M, M]\n",
    "A = tf.linalg.triangular_solve(Lm, Kmn, lower=True)  # [..., M, N]\n",
    "\n",
    "# compute the covariance due to the conditioning\n",
    "fvar = Knn - tf.linalg.matmul(A, A, transpose_a=True)  # [..., N, N]\n",
    "cov_shape = tf.concat([leading_dims, [num_func, N, N]], 0)\n",
    "fvar = tf.broadcast_to(tf.expand_dims(fvar, -3), cov_shape)  # [..., R, N, N]\n",
    "\n",
    "# another backsubstitution in the unwhitened case\n",
    "if not white:\n",
    "    A = tf.linalg.triangular_solve(tf.linalg.adjoint(Lm), A, lower=False)\n",
    "\n",
    "# construct the conditional mean\n",
    "f_shape = tf.concat([leading_dims, [M, num_func]], 0)  # [..., M, R]\n",
    "f = tf.broadcast_to(f, f_shape)  # [..., M, R]\n",
    "fmean = tf.linalg.matmul(A, f, transpose_a=True)  # [..., N, R]\n"
   ]
  },
  {
   "cell_type": "code",
   "execution_count": null,
   "metadata": {},
   "outputs": [],
   "source": []
  },
  {
   "cell_type": "code",
   "execution_count": null,
   "metadata": {},
   "outputs": [],
   "source": []
  },
  {
   "cell_type": "code",
   "execution_count": 27,
   "metadata": {},
   "outputs": [],
   "source": [
    "def get_trajectory_euler(initial_state, v_model, n_trajectories=100, end_state_t=50, dt=1.0):\n",
    "    previous_state = np.repeat(\n",
    "        np.array(initial_state, dtype=np.float64).reshape((1, 2)),\n",
    "        n_trajectories,\n",
    "        axis=0,\n",
    "    )\n",
    "\n",
    "    all_paths = previous_state\n",
    "    all_paths = all_paths.reshape((-1, 1, 2))\n",
    "\n",
    "    n_states = int(end_state_t / dt)\n",
    "\n",
    "    mvn = np.random.multivariate_normal\n",
    "    for s in range(1, n_states):\n",
    "        pred_m, pred_S = v_model.build_conditional(previous_state)\n",
    "        pred_m = pred_m.reshape(previous_state.shape)\n",
    "        \n",
    "        x_pred_m = pred_m[:, 0]\n",
    "        y_pred_m = pred_m[:, 1]\n",
    "        x_pred_S = pred_S[:, 0]\n",
    "        y_pred_S = pred_S[:, 1]\n",
    "\n",
    "        x_pred_covar = np.diag(x_pred_S.reshape(-1))\n",
    "        y_pred_covar = np.diag(y_pred_S.reshape(-1))\n",
    "\n",
    "        x_pred = mvn(x_pred_m.reshape(-1), x_pred_covar, 1).reshape(n_trajectories)\n",
    "        y_pred = mvn(y_pred_m.reshape(-1), y_pred_covar, 1).reshape(n_trajectories)\n",
    "\n",
    "        previous_state = previous_state + dt * np.stack(\n",
    "            (x_pred, y_pred), axis=1\n",
    "        ).reshape(-1, 2)\n",
    "    \n",
    "        all_paths = np.hstack((all_paths, previous_state.reshape((-1, 1, 2))))\n",
    "\n",
    "    return all_paths"
   ]
  },
  {
   "cell_type": "code",
   "execution_count": null,
   "metadata": {},
   "outputs": [],
   "source": [
    "initial_state = [-0.6, 0.0]\n",
    "end_t = 15\n",
    "dt = 0.01\n",
    "n_trajectories = 10"
   ]
  },
  {
   "cell_type": "code",
   "execution_count": null,
   "metadata": {},
   "outputs": [],
   "source": [
    "df_predicted_trajectories = get_trajectory_euler(\n",
    "        initial_state, df_model, n_trajectories=n_trajectories, end_state_t=end_t, dt=dt\n",
    "    )"
   ]
  }
 ],
 "metadata": {
  "kernelspec": {
   "display_name": "venv3.8",
   "language": "python",
   "name": "venv3.8"
  },
  "language_info": {
   "codemirror_mode": {
    "name": "ipython",
    "version": 3
   },
   "file_extension": ".py",
   "mimetype": "text/x-python",
   "name": "python",
   "nbconvert_exporter": "python",
   "pygments_lexer": "ipython3",
   "version": "3.8.13"
  },
  "orig_nbformat": 4,
  "vscode": {
   "interpreter": {
    "hash": "916dbcbb3f70747c44a77c7bcd40155683ae19c65e1c03b4aa3499c5328201f1"
   }
  }
 },
 "nbformat": 4,
 "nbformat_minor": 2
}
