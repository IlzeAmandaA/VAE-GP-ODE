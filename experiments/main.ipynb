{
 "cells": [
  {
   "cell_type": "code",
   "execution_count": 1,
   "metadata": {},
   "outputs": [],
   "source": [
    "import numpy as np \n",
    "import torch\n",
    "from data.wrappers import load_data\n",
    "from model.odegpvae import ODEGPVAE\n",
    "\n",
    "device = 'cuda'\n",
    "data_root = 'data/'\n",
    "task = 'mnist'\n"
   ]
  },
  {
   "cell_type": "code",
   "execution_count": 2,
   "metadata": {},
   "outputs": [],
   "source": [
    "########### data ############ \n",
    "trainset, testset = load_data(data_root, task, plot=True)\n",
    "\n",
    "\n",
    "########### model ###########\n",
    "odegpvae = ODEGPVAE(q=8,n_filt=16, device=device).to(device)"
   ]
  },
  {
   "cell_type": "code",
   "execution_count": 3,
   "metadata": {},
   "outputs": [
    {
     "data": {
      "text/plain": [
       "20"
      ]
     },
     "execution_count": 3,
     "metadata": {},
     "output_type": "execute_result"
    }
   ],
   "source": [
    "len(trainset)"
   ]
  },
  {
   "cell_type": "code",
   "execution_count": 52,
   "metadata": {},
   "outputs": [
    {
     "data": {
      "text/plain": [
       "True"
      ]
     },
     "execution_count": 52,
     "metadata": {},
     "output_type": "execute_result"
    }
   ],
   "source": [
    "next(odegpvae.ode_model.parameters()).is_cuda"
   ]
  },
  {
   "cell_type": "code",
   "execution_count": 53,
   "metadata": {},
   "outputs": [
    {
     "data": {
      "text/plain": [
       "True"
      ]
     },
     "execution_count": 53,
     "metadata": {},
     "output_type": "execute_result"
    }
   ],
   "source": [
    "next(odegpvae.parameters()).is_cuda"
   ]
  },
  {
   "cell_type": "code",
   "execution_count": 54,
   "metadata": {},
   "outputs": [
    {
     "data": {
      "text/plain": [
       "True"
      ]
     },
     "execution_count": 54,
     "metadata": {},
     "output_type": "execute_result"
    }
   ],
   "source": [
    "next(odegpvae.enc_s.parameters()).is_cuda"
   ]
  },
  {
   "cell_type": "code",
   "execution_count": 55,
   "metadata": {},
   "outputs": [
    {
     "data": {
      "text/plain": [
       "True"
      ]
     },
     "execution_count": 55,
     "metadata": {},
     "output_type": "execute_result"
    }
   ],
   "source": [
    "next(odegpvae.decoder.parameters()).is_cuda"
   ]
  },
  {
   "cell_type": "code",
   "execution_count": 56,
   "metadata": {},
   "outputs": [
    {
     "data": {
      "text/plain": [
       "True"
      ]
     },
     "execution_count": 56,
     "metadata": {},
     "output_type": "execute_result"
    }
   ],
   "source": [
    "next(odegpvae.enc_v.parameters()).is_cuda"
   ]
  },
  {
   "cell_type": "code",
   "execution_count": 57,
   "metadata": {},
   "outputs": [
    {
     "data": {
      "text/plain": [
       "device(type='cuda', index=0)"
      ]
     },
     "execution_count": 57,
     "metadata": {},
     "output_type": "execute_result"
    }
   ],
   "source": [
    "odegpvae.ode_model.svgp.device"
   ]
  },
  {
   "cell_type": "code",
   "execution_count": 58,
   "metadata": {},
   "outputs": [],
   "source": [
    "# ########### train ###########\n",
    "Nepoch = 500\n",
    "optimizer = torch.optim.Adam(odegpvae.parameters(),lr=1e-3)"
   ]
  },
  {
   "cell_type": "code",
   "execution_count": 59,
   "metadata": {},
   "outputs": [],
   "source": [
    "minibatch = next(iter(trainset)).to(device)"
   ]
  },
  {
   "cell_type": "code",
   "execution_count": 60,
   "metadata": {},
   "outputs": [],
   "source": [
    "X = minibatch"
   ]
  },
  {
   "cell_type": "code",
   "execution_count": 61,
   "metadata": {},
   "outputs": [],
   "source": [
    "[N,T,nc,d,d] = X.shape"
   ]
  },
  {
   "cell_type": "code",
   "execution_count": 62,
   "metadata": {},
   "outputs": [
    {
     "data": {
      "text/plain": [
       "torch.Size([25, 16, 1, 28, 28])"
      ]
     },
     "execution_count": 62,
     "metadata": {},
     "output_type": "execute_result"
    }
   ],
   "source": [
    "X.shape"
   ]
  },
  {
   "cell_type": "code",
   "execution_count": 63,
   "metadata": {},
   "outputs": [
    {
     "data": {
      "text/plain": [
       "torch.Size([25, 1, 28, 28])"
      ]
     },
     "execution_count": 63,
     "metadata": {},
     "output_type": "execute_result"
    }
   ],
   "source": [
    "X[:,0].shape"
   ]
  },
  {
   "cell_type": "code",
   "execution_count": 64,
   "metadata": {},
   "outputs": [],
   "source": [
    "#h = odegpvae.encoder(X[:,0])\n",
    "s0_mu, s0_logv = odegpvae.enc_s(X[:,0])"
   ]
  },
  {
   "cell_type": "code",
   "execution_count": 65,
   "metadata": {},
   "outputs": [],
   "source": [
    "v0_mu, v0_logv = odegpvae.enc_v(torch.squeeze(X[:,0:odegpvae.v_steps]))"
   ]
  },
  {
   "cell_type": "code",
   "execution_count": 66,
   "metadata": {},
   "outputs": [
    {
     "name": "stdout",
     "output_type": "stream",
     "text": [
      "torch.Size([25, 8]) torch.Size([25, 8])\n",
      "torch.Size([25, 8]) torch.Size([25, 8])\n"
     ]
    }
   ],
   "source": [
    "print(s0_mu.shape, s0_logv.shape)\n",
    "print(v0_mu.shape, v0_logv.shape)"
   ]
  },
  {
   "cell_type": "code",
   "execution_count": 67,
   "metadata": {},
   "outputs": [],
   "source": [
    "eps_s0   = torch.randn_like(s0_mu)\n",
    "eps_v0   = torch.randn_like(v0_mu)"
   ]
  },
  {
   "cell_type": "code",
   "execution_count": 68,
   "metadata": {},
   "outputs": [
    {
     "data": {
      "text/plain": [
       "True"
      ]
     },
     "execution_count": 68,
     "metadata": {},
     "output_type": "execute_result"
    }
   ],
   "source": [
    "eps_v0.is_cuda"
   ]
  },
  {
   "cell_type": "code",
   "execution_count": 69,
   "metadata": {},
   "outputs": [],
   "source": [
    "s0 = s0_mu + eps_s0*torch.exp(s0_logv) #N,q\n",
    "v0 = v0_mu + eps_v0*torch.exp(v0_logv) #N,q"
   ]
  },
  {
   "cell_type": "code",
   "execution_count": 70,
   "metadata": {},
   "outputs": [
    {
     "data": {
      "text/plain": [
       "True"
      ]
     },
     "execution_count": 70,
     "metadata": {},
     "output_type": "execute_result"
    }
   ],
   "source": [
    "odegpvae._zero_mean.is_cuda"
   ]
  },
  {
   "cell_type": "code",
   "execution_count": 71,
   "metadata": {},
   "outputs": [],
   "source": [
    "logp0 = odegpvae.mvn.log_prob(eps_s0) + odegpvae.mvn.log_prob(eps_v0) # N "
   ]
  },
  {
   "cell_type": "code",
   "execution_count": 15,
   "metadata": {},
   "outputs": [
    {
     "data": {
      "text/plain": [
       "torch.Size([25])"
      ]
     },
     "execution_count": 15,
     "metadata": {},
     "output_type": "execute_result"
    }
   ],
   "source": [
    "logp0.shape"
   ]
  },
  {
   "cell_type": "markdown",
   "metadata": {},
   "source": [
    "ode"
   ]
  },
  {
   "cell_type": "code",
   "execution_count": 72,
   "metadata": {},
   "outputs": [],
   "source": [
    "z0 = torch.concat([v0,s0],dim=1)"
   ]
  },
  {
   "cell_type": "code",
   "execution_count": 73,
   "metadata": {},
   "outputs": [
    {
     "data": {
      "text/plain": [
       "torch.Size([25, 16])"
      ]
     },
     "execution_count": 73,
     "metadata": {},
     "output_type": "execute_result"
    }
   ],
   "source": [
    "z0.shape"
   ]
  },
  {
   "cell_type": "code",
   "execution_count": 77,
   "metadata": {},
   "outputs": [
    {
     "data": {
      "text/plain": [
       "True"
      ]
     },
     "execution_count": 77,
     "metadata": {},
     "output_type": "execute_result"
    }
   ],
   "source": [
    "odegpvae.ode_model.svgp.Lzz.evaluate().is_cuda"
   ]
  },
  {
   "cell_type": "code",
   "execution_count": 82,
   "metadata": {},
   "outputs": [
    {
     "data": {
      "text/plain": [
       "False"
      ]
     },
     "execution_count": 82,
     "metadata": {},
     "output_type": "execute_result"
    }
   ],
   "source": [
    "odegpvae.ode_model.svgp.variational_strategy.variational_distribution.scale_tril.is_cuda"
   ]
  },
  {
   "cell_type": "code",
   "execution_count": 74,
   "metadata": {},
   "outputs": [
    {
     "ename": "RuntimeError",
     "evalue": "Expected all tensors to be on the same device, but found at least two devices, cuda:0 and cpu! (when checking argument for argument mat2 in method wrapper_bmm)",
     "output_type": "error",
     "traceback": [
      "\u001b[0;31m---------------------------------------------------------------------------\u001b[0m",
      "\u001b[0;31mRuntimeError\u001b[0m                              Traceback (most recent call last)",
      "\u001b[1;32m/home/ilze/PhD/OdeVaeGP/experiments/main.ipynb Cell 27\u001b[0m in \u001b[0;36m<cell line: 1>\u001b[0;34m()\u001b[0m\n\u001b[0;32m----> <a href='vscode-notebook-cell:/home/ilze/PhD/OdeVaeGP/experiments/main.ipynb#ch0000018?line=0'>1</a>\u001b[0m gp_draw \u001b[39m=\u001b[39m odegpvae\u001b[39m.\u001b[39;49mode_model\u001b[39m.\u001b[39;49msvgp\u001b[39m.\u001b[39;49mdraw_posterior_function()\n\u001b[1;32m      <a href='vscode-notebook-cell:/home/ilze/PhD/OdeVaeGP/experiments/main.ipynb#ch0000018?line=1'>2</a>\u001b[0m oderhs \u001b[39m=\u001b[39m \u001b[39mlambda\u001b[39;00m t, x: odegpvae\u001b[39m.\u001b[39mode_model\u001b[39m.\u001b[39msvgp\u001b[39m.\u001b[39mode_rhs(t,x,gp_draw)\n",
      "File \u001b[0;32m~/PhD/OdeVaeGP/experiments/model/svgp.py:196\u001b[0m, in \u001b[0;36mSVGP.draw_posterior_function\u001b[0;34m(self, S, P)\u001b[0m\n\u001b[1;32m    190\u001b[0m \u001b[39m''' \u001b[39;00m\n\u001b[1;32m    191\u001b[0m \u001b[39m    Sampling with Matheron's rule\u001b[39;00m\n\u001b[1;32m    192\u001b[0m \u001b[39m    S - number of bases\u001b[39;00m\n\u001b[1;32m    193\u001b[0m \u001b[39m    P - number of function draws\u001b[39;00m\n\u001b[1;32m    194\u001b[0m \u001b[39m'''\u001b[39;00m\n\u001b[1;32m    195\u001b[0m nout \u001b[39m=\u001b[39m \u001b[39mself\u001b[39m\u001b[39m.\u001b[39mnout\n\u001b[0;32m--> 196\u001b[0m omega,tau,w,nu \u001b[39m=\u001b[39m \u001b[39mself\u001b[39;49m\u001b[39m.\u001b[39;49mcache(S,P) \u001b[39m# nu [P,M,nout]\u001b[39;00m\n\u001b[1;32m    197\u001b[0m \u001b[39mdef\u001b[39;00m \u001b[39mf\u001b[39m(x):\n\u001b[1;32m    198\u001b[0m     \u001b[39m''' x - evaluation points [N,n] our latent z0 : N, 2q \u001b[39;00m\n\u001b[1;32m    199\u001b[0m \u001b[39m        returns - function outputs [N,nout] or [P,N,nout]\u001b[39;00m\n\u001b[1;32m    200\u001b[0m \u001b[39m    '''\u001b[39;00m\n",
      "File \u001b[0;32m~/PhD/OdeVaeGP/experiments/model/svgp.py:137\u001b[0m, in \u001b[0;36mSVGP.cache\u001b[0;34m(self, S, P)\u001b[0m\n\u001b[1;32m    135\u001b[0m \u001b[39m# draw nu\u001b[39;00m\n\u001b[1;32m    136\u001b[0m phi_w_z \u001b[39m=\u001b[39m \u001b[39mself\u001b[39m\u001b[39m.\u001b[39mrff(\u001b[39mself\u001b[39m\u001b[39m.\u001b[39mZ, omega, bias, w) \u001b[39m# P,M,nout\u001b[39;00m\n\u001b[0;32m--> 137\u001b[0m U   \u001b[39m=\u001b[39m \u001b[39mself\u001b[39;49m\u001b[39m.\u001b[39;49mdraw_U(P) \u001b[39m# P,nout,M\u001b[39;00m\n\u001b[1;32m    138\u001b[0m f_m \u001b[39m=\u001b[39m U\u001b[39m.\u001b[39mpermute(\u001b[39m0\u001b[39m,\u001b[39m2\u001b[39m,\u001b[39m1\u001b[39m) \u001b[39m-\u001b[39m phi_w_z \u001b[39m# P,M,nout\u001b[39;00m\n\u001b[1;32m    139\u001b[0m nu  \u001b[39m=\u001b[39m \u001b[39mself\u001b[39m\u001b[39m.\u001b[39mKzz\u001b[39m.\u001b[39minv_matmul(f_m\u001b[39m.\u001b[39mpermute(\u001b[39m2\u001b[39m,\u001b[39m1\u001b[39m,\u001b[39m0\u001b[39m))\u001b[39m.\u001b[39mpermute(\u001b[39m2\u001b[39m,\u001b[39m1\u001b[39m,\u001b[39m0\u001b[39m) \u001b[39m# P,M,nout\u001b[39;00m\n",
      "File \u001b[0;32m~/PhD/OdeVaeGP/experiments/model/svgp.py:109\u001b[0m, in \u001b[0;36mSVGP.draw_U\u001b[0;34m(self, P)\u001b[0m\n\u001b[1;32m    106\u001b[0m \u001b[39melse\u001b[39;00m:\n\u001b[1;32m    107\u001b[0m     \u001b[39mif\u001b[39;00m \u001b[39mself\u001b[39m\u001b[39m.\u001b[39mwhitened:\n\u001b[1;32m    108\u001b[0m         \u001b[39m# with gpytorch.settings.cholesky_jitter(1e-3):\u001b[39;00m\n\u001b[0;32m--> 109\u001b[0m         L \u001b[39m=\u001b[39m \u001b[39mself\u001b[39;49m\u001b[39m.\u001b[39;49mLzz\u001b[39m.\u001b[39;49mevaluate() \u001b[39m@\u001b[39;49m \u001b[39mself\u001b[39;49m\u001b[39m.\u001b[39;49mvariational_strategy\u001b[39m.\u001b[39;49mvariational_distribution\u001b[39m.\u001b[39;49mscale_tril\n\u001b[1;32m    110\u001b[0m         \u001b[39mreturn\u001b[39;00m \u001b[39mself\u001b[39m\u001b[39m.\u001b[39mU_mean \u001b[39m+\u001b[39m (L \u001b[39m@\u001b[39m torch\u001b[39m.\u001b[39mrandn([\u001b[39mself\u001b[39m\u001b[39m.\u001b[39mnout,\u001b[39mself\u001b[39m\u001b[39m.\u001b[39mM,P],device\u001b[39m=\u001b[39m\u001b[39mself\u001b[39m\u001b[39m.\u001b[39mdevice, dtype\u001b[39m=\u001b[39mL\u001b[39m.\u001b[39mdtype))\u001b[39m.\u001b[39mpermute(\u001b[39m2\u001b[39m,\u001b[39m0\u001b[39m,\u001b[39m1\u001b[39m)\n\u001b[1;32m    111\u001b[0m     \u001b[39melse\u001b[39;00m:\n",
      "\u001b[0;31mRuntimeError\u001b[0m: Expected all tensors to be on the same device, but found at least two devices, cuda:0 and cpu! (when checking argument for argument mat2 in method wrapper_bmm)"
     ]
    }
   ],
   "source": [
    "gp_draw = odegpvae.ode_model.svgp.draw_posterior_function()\n",
    "oderhs = lambda t, x: odegpvae.ode_model.svgp.ode_rhs(t,x,gp_draw)"
   ]
  },
  {
   "cell_type": "code",
   "execution_count": 29,
   "metadata": {},
   "outputs": [],
   "source": [
    "from torchdiffeq import odeint\n",
    "ts  =  0.1 * torch.arange(T,dtype=torch.float).to(z0.device)\n",
    "zt, logp = odeint(oderhs, (z0, logp0), ts, method=\"euler\")"
   ]
  },
  {
   "cell_type": "code",
   "execution_count": 30,
   "metadata": {},
   "outputs": [],
   "source": [
    "ztL   = []\n",
    "logpL = []\n",
    "ztL.append(zt.permute([1,0,2]).unsqueeze(0)) # 1,N,T,2q\n",
    "logpL.append(logp.permute([1,0]).unsqueeze(0)) # 1,N,T\n",
    "ztL   = torch.cat(ztL,0)\n",
    "logpL = torch.cat(logpL)"
   ]
  },
  {
   "cell_type": "markdown",
   "metadata": {},
   "source": [
    "decode"
   ]
  },
  {
   "cell_type": "code",
   "execution_count": 31,
   "metadata": {},
   "outputs": [],
   "source": [
    "st_muL = ztL[:,:,:,8:] # L,N,T,q Only the position is decoded\n",
    "s = odegpvae.fc3(st_muL.contiguous().view([1*N*T,8]) ) # L*N*T,h_dim\n",
    "Xrec = odegpvae.decoder(s) # L*N*T,nc,d,d\n",
    "Xrec = Xrec.view([1,N,T,nc,d,d]) # L,N,T,nc,d,d"
   ]
  },
  {
   "cell_type": "code",
   "execution_count": 32,
   "metadata": {},
   "outputs": [
    {
     "data": {
      "text/plain": [
       "torch.Size([1, 25, 16, 1, 28, 28])"
      ]
     },
     "execution_count": 32,
     "metadata": {},
     "output_type": "execute_result"
    }
   ],
   "source": [
    "Xrec.shape"
   ]
  },
  {
   "cell_type": "code",
   "execution_count": 2,
   "metadata": {},
   "outputs": [
    {
     "name": "stdout",
     "output_type": "stream",
     "text": [
      "0\n",
      "1\n",
      "2\n",
      "3\n",
      "4\n",
      "5\n",
      "6\n",
      "7\n",
      "8\n"
     ]
    }
   ],
   "source": [
    "for i in range(9):\n",
    "    print(i)"
   ]
  },
  {
   "cell_type": "code",
   "execution_count": 61,
   "metadata": {},
   "outputs": [],
   "source": []
  },
  {
   "cell_type": "code",
   "execution_count": 62,
   "metadata": {},
   "outputs": [],
   "source": []
  },
  {
   "cell_type": "code",
   "execution_count": 63,
   "metadata": {},
   "outputs": [],
   "source": []
  },
  {
   "cell_type": "code",
   "execution_count": 65,
   "metadata": {},
   "outputs": [],
   "source": []
  },
  {
   "cell_type": "code",
   "execution_count": 66,
   "metadata": {},
   "outputs": [],
   "source": []
  },
  {
   "cell_type": "code",
   "execution_count": 74,
   "metadata": {},
   "outputs": [],
   "source": []
  },
  {
   "cell_type": "code",
   "execution_count": 75,
   "metadata": {},
   "outputs": [],
   "source": []
  },
  {
   "cell_type": "code",
   "execution_count": 76,
   "metadata": {},
   "outputs": [],
   "source": []
  },
  {
   "cell_type": "code",
   "execution_count": 77,
   "metadata": {},
   "outputs": [
    {
     "data": {
      "text/plain": [
       "torch.Size([1, 25, 16, 16])"
      ]
     },
     "execution_count": 77,
     "metadata": {},
     "output_type": "execute_result"
    }
   ],
   "source": [
    "ztL.shape"
   ]
  },
  {
   "cell_type": "code",
   "execution_count": 78,
   "metadata": {},
   "outputs": [],
   "source": [
    "st_muL = ztL[:,:,:,q:] "
   ]
  },
  {
   "cell_type": "code",
   "execution_count": 79,
   "metadata": {},
   "outputs": [],
   "source": [
    "s = odegpvae.fc3(st_muL.contiguous().view([1*N*T,q]) ) # L*N*T,h_dim"
   ]
  },
  {
   "cell_type": "code",
   "execution_count": 80,
   "metadata": {},
   "outputs": [
    {
     "data": {
      "text/plain": [
       "torch.Size([400, 1024])"
      ]
     },
     "execution_count": 80,
     "metadata": {},
     "output_type": "execute_result"
    }
   ],
   "source": [
    "s.shape"
   ]
  },
  {
   "cell_type": "code",
   "execution_count": 81,
   "metadata": {},
   "outputs": [],
   "source": [
    "Xrec = odegpvae.decoder(s)"
   ]
  },
  {
   "cell_type": "code",
   "execution_count": 82,
   "metadata": {},
   "outputs": [
    {
     "data": {
      "text/plain": [
       "torch.Size([400, 1, 28, 28])"
      ]
     },
     "execution_count": 82,
     "metadata": {},
     "output_type": "execute_result"
    }
   ],
   "source": [
    "Xrec.shape"
   ]
  },
  {
   "cell_type": "code",
   "execution_count": 83,
   "metadata": {},
   "outputs": [],
   "source": [
    "Xrec = Xrec.view([1,N,T,nc,d,d])"
   ]
  },
  {
   "cell_type": "code",
   "execution_count": 84,
   "metadata": {},
   "outputs": [
    {
     "data": {
      "text/plain": [
       "torch.Size([1, 25, 16, 1, 28, 28])"
      ]
     },
     "execution_count": 84,
     "metadata": {},
     "output_type": "execute_result"
    }
   ],
   "source": [
    "Xrec.shape"
   ]
  },
  {
   "cell_type": "code",
   "execution_count": 85,
   "metadata": {},
   "outputs": [],
   "source": [
    "XL = X.repeat([1,1,1,1,1,1])"
   ]
  },
  {
   "cell_type": "code",
   "execution_count": 92,
   "metadata": {},
   "outputs": [],
   "source": [
    "a = torch.rand(4,2,4,2)"
   ]
  },
  {
   "cell_type": "code",
   "execution_count": 99,
   "metadata": {},
   "outputs": [
    {
     "data": {
      "text/plain": [
       "torch.Size([4, 2, 4, 2])"
      ]
     },
     "execution_count": 99,
     "metadata": {},
     "output_type": "execute_result"
    }
   ],
   "source": [
    "a.shape"
   ]
  },
  {
   "cell_type": "code",
   "execution_count": 102,
   "metadata": {},
   "outputs": [],
   "source": [
    "a = a.reshape(4,4,2,2)"
   ]
  },
  {
   "cell_type": "code",
   "execution_count": 103,
   "metadata": {},
   "outputs": [
    {
     "data": {
      "text/plain": [
       "torch.Size([4, 4, 2, 2])"
      ]
     },
     "execution_count": 103,
     "metadata": {},
     "output_type": "execute_result"
    }
   ],
   "source": [
    "a.shape"
   ]
  },
  {
   "cell_type": "code",
   "execution_count": 105,
   "metadata": {},
   "outputs": [
    {
     "data": {
      "text/plain": [
       "tensor([[0.0846, 0.5949, 0.6314, 0.9313, 0.8341, 0.6749, 0.7853, 0.6984, 0.5148,\n",
       "         0.3916, 0.0730, 0.5372, 0.9051, 0.1531, 0.0383, 0.2877, 0.1880, 0.2894,\n",
       "         0.8003, 0.5723, 0.2640, 0.7646, 0.3810, 0.0985, 0.7947, 0.5044, 0.7920,\n",
       "         0.4210, 0.7991, 0.3221, 0.0861, 0.0154, 0.6771, 0.5737, 0.2921, 0.5412,\n",
       "         0.6293, 0.1227, 0.8588, 0.6355, 0.5088, 0.4454, 0.0304, 0.0453, 0.2842,\n",
       "         0.8785, 0.2644, 0.2020, 0.4442, 0.0312, 0.3873, 0.1059, 0.9714, 0.0748,\n",
       "         0.2523, 0.1219, 0.1804, 0.2995, 0.2924, 0.4937, 0.3388, 0.7356, 0.7520,\n",
       "         0.1684]])"
      ]
     },
     "execution_count": 105,
     "metadata": {},
     "output_type": "execute_result"
    }
   ],
   "source": [
    "a.view(-1,64)"
   ]
  },
  {
   "cell_type": "code",
   "execution_count": null,
   "metadata": {},
   "outputs": [],
   "source": []
  }
 ],
 "metadata": {
  "kernelspec": {
   "display_name": "venv3.8",
   "language": "python",
   "name": "venv3.8"
  },
  "language_info": {
   "codemirror_mode": {
    "name": "ipython",
    "version": 3
   },
   "file_extension": ".py",
   "mimetype": "text/x-python",
   "name": "python",
   "nbconvert_exporter": "python",
   "pygments_lexer": "ipython3",
   "version": "3.8.13"
  },
  "orig_nbformat": 4,
  "vscode": {
   "interpreter": {
    "hash": "916dbcbb3f70747c44a77c7bcd40155683ae19c65e1c03b4aa3499c5328201f1"
   }
  }
 },
 "nbformat": 4,
 "nbformat_minor": 2
}
