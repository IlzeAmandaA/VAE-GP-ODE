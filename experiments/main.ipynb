{
 "cells": [
  {
   "cell_type": "code",
   "execution_count": 15,
   "metadata": {},
   "outputs": [],
   "source": [
    "import numpy as np \n",
    "import torch\n",
    "from data.wrappers import load_data\n",
    "from model.core.odegpvae import ODEGPVAE\n",
    "\n",
    "# device = 'cuda'\n",
    "data_root = 'data/'\n",
    "task = 'mnist'\n"
   ]
  },
  {
   "cell_type": "code",
   "execution_count": 39,
   "metadata": {},
   "outputs": [],
   "source": [
    "device = torch.device('cuda' if torch.cuda.is_available() else 'cpu')"
   ]
  },
  {
   "cell_type": "code",
   "execution_count": 37,
   "metadata": {},
   "outputs": [],
   "source": [
    "from model.core.dsvpy import DSVGP_Layer"
   ]
  },
  {
   "cell_type": "code",
   "execution_count": 38,
   "metadata": {},
   "outputs": [],
   "source": [
    "gp = DSVGP_Layer(D_in=8*2, D_out=9, #2q, q\n",
    "                M=50,\n",
    "                S=100)"
   ]
  },
  {
   "cell_type": "code",
   "execution_count": 41,
   "metadata": {},
   "outputs": [
    {
     "data": {
      "text/plain": [
       "'cpu'"
      ]
     },
     "execution_count": 41,
     "metadata": {},
     "output_type": "execute_result"
    }
   ],
   "source": [
    "next(gp.parameters()).device.type"
   ]
  },
  {
   "cell_type": "code",
   "execution_count": null,
   "metadata": {},
   "outputs": [],
   "source": [
    "@property\n",
    "def device(self):\n",
    "    return next(self.parameters()).device.type"
   ]
  },
  {
   "cell_type": "code",
   "execution_count": 26,
   "metadata": {},
   "outputs": [],
   "source": [
    "from torch.distributions import MultivariateNormal, Normal"
   ]
  },
  {
   "cell_type": "code",
   "execution_count": null,
   "metadata": {},
   "outputs": [],
   "source": [
    "mvn_q = MultivariateNormal(torch.zeros(8).to(device),torch.eye(q).to(device))"
   ]
  },
  {
   "cell_type": "code",
   "execution_count": 16,
   "metadata": {},
   "outputs": [
    {
     "ename": "OSError",
     "evalue": "could not read bytes",
     "output_type": "error",
     "traceback": [
      "\u001b[0;31m---------------------------------------------------------------------------\u001b[0m",
      "\u001b[0;31mOSError\u001b[0m                                   Traceback (most recent call last)",
      "\u001b[1;32m/Users/ilze/PhD/github/OdeVaeGP/experiments/main.ipynb Cell 2'\u001b[0m in \u001b[0;36m<cell line: 2>\u001b[0;34m()\u001b[0m\n\u001b[1;32m      <a href='vscode-notebook-cell:/Users/ilze/PhD/github/OdeVaeGP/experiments/main.ipynb#ch0000001?line=0'>1</a>\u001b[0m \u001b[39m########### data ############ \u001b[39;00m\n\u001b[0;32m----> <a href='vscode-notebook-cell:/Users/ilze/PhD/github/OdeVaeGP/experiments/main.ipynb#ch0000001?line=1'>2</a>\u001b[0m trainset, testset \u001b[39m=\u001b[39m load_data(data_root, task, plot\u001b[39m=\u001b[39;49m\u001b[39mTrue\u001b[39;49;00m)\n",
      "File \u001b[0;32m~/PhD/github/OdeVaeGP/experiments/data/wrappers.py:10\u001b[0m, in \u001b[0;36mload_data\u001b[0;34m(data_dir, task, dt, mask, value, subject_id, plot)\u001b[0m\n\u001b[1;32m      <a href='file:///Users/ilze/PhD/github/OdeVaeGP/experiments/data/wrappers.py?line=7'>8</a>\u001b[0m \u001b[39mdef\u001b[39;00m \u001b[39mload_data\u001b[39m(data_dir,task,dt\u001b[39m=\u001b[39m\u001b[39m0.1\u001b[39m,mask\u001b[39m=\u001b[39m\u001b[39mTrue\u001b[39;00m, value \u001b[39m=\u001b[39m \u001b[39m3\u001b[39m,subject_id\u001b[39m=\u001b[39m\u001b[39m0\u001b[39m,plot\u001b[39m=\u001b[39m\u001b[39mFalse\u001b[39;00m):\n\u001b[1;32m      <a href='file:///Users/ilze/PhD/github/OdeVaeGP/experiments/data/wrappers.py?line=8'>9</a>\u001b[0m \t\u001b[39mif\u001b[39;00m task\u001b[39m==\u001b[39m\u001b[39m'\u001b[39m\u001b[39mmnist\u001b[39m\u001b[39m'\u001b[39m:\n\u001b[0;32m---> <a href='file:///Users/ilze/PhD/github/OdeVaeGP/experiments/data/wrappers.py?line=9'>10</a>\u001b[0m \t\ttrainset, testset \u001b[39m=\u001b[39m load_mnist_data(data_dir,dt\u001b[39m=\u001b[39;49mdt,mask\u001b[39m=\u001b[39;49m mask, value \u001b[39m=\u001b[39;49m value,plot\u001b[39m=\u001b[39;49mplot)\n\u001b[1;32m     <a href='file:///Users/ilze/PhD/github/OdeVaeGP/experiments/data/wrappers.py?line=10'>11</a>\u001b[0m \t\u001b[39m# if task=='mnist_nonuniform':\u001b[39;00m\n\u001b[1;32m     <a href='file:///Users/ilze/PhD/github/OdeVaeGP/experiments/data/wrappers.py?line=11'>12</a>\u001b[0m \t\u001b[39m# \tdataset = load_mnist_nonuniform_data(data_dir,dt=dt,plot=plot)\u001b[39;00m\n\u001b[1;32m     <a href='file:///Users/ilze/PhD/github/OdeVaeGP/experiments/data/wrappers.py?line=12'>13</a>\u001b[0m \t\u001b[39m# elif task=='mocap_many':\u001b[39;00m\n\u001b[0;32m   (...)\u001b[0m\n\u001b[1;32m     <a href='file:///Users/ilze/PhD/github/OdeVaeGP/experiments/data/wrappers.py?line=17'>18</a>\u001b[0m \t\u001b[39m# \tdataset = load_bball_data(data_dir,dt=dt,plot=plot)\u001b[39;00m\n\u001b[1;32m     <a href='file:///Users/ilze/PhD/github/OdeVaeGP/experiments/data/wrappers.py?line=18'>19</a>\u001b[0m \t\u001b[39m#[N,T,D] = trainset.shape\u001b[39;00m\n\u001b[1;32m     <a href='file:///Users/ilze/PhD/github/OdeVaeGP/experiments/data/wrappers.py?line=19'>20</a>\u001b[0m \t\u001b[39mreturn\u001b[39;00m trainset, testset\n",
      "File \u001b[0;32m~/PhD/github/OdeVaeGP/experiments/data/mnist.py:14\u001b[0m, in \u001b[0;36mload_mnist_data\u001b[0;34m(data_dir, dt, mask, value, plot)\u001b[0m\n\u001b[1;32m     <a href='file:///Users/ilze/PhD/github/OdeVaeGP/experiments/data/mnist.py?line=11'>12</a>\u001b[0m \u001b[39mdef\u001b[39;00m \u001b[39mload_mnist_data\u001b[39m(data_dir,dt\u001b[39m=\u001b[39m\u001b[39m0.1\u001b[39m, mask\u001b[39m=\u001b[39m \u001b[39mTrue\u001b[39;00m, value \u001b[39m=\u001b[39m \u001b[39m3\u001b[39m, plot\u001b[39m=\u001b[39m\u001b[39mTrue\u001b[39;00m):\n\u001b[1;32m     <a href='file:///Users/ilze/PhD/github/OdeVaeGP/experiments/data/mnist.py?line=12'>13</a>\u001b[0m \tfullname \u001b[39m=\u001b[39m os\u001b[39m.\u001b[39mpath\u001b[39m.\u001b[39mjoin(data_dir, \u001b[39m\"\u001b[39m\u001b[39mrot_mnist\u001b[39m\u001b[39m\"\u001b[39m, \u001b[39m\"\u001b[39m\u001b[39mrot-mnist.mat\u001b[39m\u001b[39m\"\u001b[39m)\n\u001b[0;32m---> <a href='file:///Users/ilze/PhD/github/OdeVaeGP/experiments/data/mnist.py?line=13'>14</a>\u001b[0m \tdataset \u001b[39m=\u001b[39m sio\u001b[39m.\u001b[39;49mloadmat(fullname)\n\u001b[1;32m     <a href='file:///Users/ilze/PhD/github/OdeVaeGP/experiments/data/mnist.py?line=15'>16</a>\u001b[0m \tX \u001b[39m=\u001b[39m np\u001b[39m.\u001b[39msqueeze(dataset[\u001b[39m'\u001b[39m\u001b[39mX\u001b[39m\u001b[39m'\u001b[39m])\n\u001b[1;32m     <a href='file:///Users/ilze/PhD/github/OdeVaeGP/experiments/data/mnist.py?line=16'>17</a>\u001b[0m \t\u001b[39mif\u001b[39;00m mask:\n",
      "File \u001b[0;32m~/PhD/virtualenv/env3.8/lib/python3.8/site-packages/scipy/io/matlab/_mio.py:226\u001b[0m, in \u001b[0;36mloadmat\u001b[0;34m(file_name, mdict, appendmat, **kwargs)\u001b[0m\n\u001b[1;32m    <a href='file:///Users/ilze/PhD/virtualenv/env3.8/lib/python3.8/site-packages/scipy/io/matlab/_mio.py?line=223'>224</a>\u001b[0m \u001b[39mwith\u001b[39;00m _open_file_context(file_name, appendmat) \u001b[39mas\u001b[39;00m f:\n\u001b[1;32m    <a href='file:///Users/ilze/PhD/virtualenv/env3.8/lib/python3.8/site-packages/scipy/io/matlab/_mio.py?line=224'>225</a>\u001b[0m     MR, _ \u001b[39m=\u001b[39m mat_reader_factory(f, \u001b[39m*\u001b[39m\u001b[39m*\u001b[39mkwargs)\n\u001b[0;32m--> <a href='file:///Users/ilze/PhD/virtualenv/env3.8/lib/python3.8/site-packages/scipy/io/matlab/_mio.py?line=225'>226</a>\u001b[0m     matfile_dict \u001b[39m=\u001b[39m MR\u001b[39m.\u001b[39;49mget_variables(variable_names)\n\u001b[1;32m    <a href='file:///Users/ilze/PhD/virtualenv/env3.8/lib/python3.8/site-packages/scipy/io/matlab/_mio.py?line=227'>228</a>\u001b[0m \u001b[39mif\u001b[39;00m mdict \u001b[39mis\u001b[39;00m \u001b[39mnot\u001b[39;00m \u001b[39mNone\u001b[39;00m:\n\u001b[1;32m    <a href='file:///Users/ilze/PhD/virtualenv/env3.8/lib/python3.8/site-packages/scipy/io/matlab/_mio.py?line=228'>229</a>\u001b[0m     mdict\u001b[39m.\u001b[39mupdate(matfile_dict)\n",
      "File \u001b[0;32m~/PhD/virtualenv/env3.8/lib/python3.8/site-packages/scipy/io/matlab/_mio5.py:332\u001b[0m, in \u001b[0;36mMatFile5Reader.get_variables\u001b[0;34m(self, variable_names)\u001b[0m\n\u001b[1;32m    <a href='file:///Users/ilze/PhD/virtualenv/env3.8/lib/python3.8/site-packages/scipy/io/matlab/_mio5.py?line=329'>330</a>\u001b[0m     \u001b[39mcontinue\u001b[39;00m\n\u001b[1;32m    <a href='file:///Users/ilze/PhD/virtualenv/env3.8/lib/python3.8/site-packages/scipy/io/matlab/_mio5.py?line=330'>331</a>\u001b[0m \u001b[39mtry\u001b[39;00m:\n\u001b[0;32m--> <a href='file:///Users/ilze/PhD/virtualenv/env3.8/lib/python3.8/site-packages/scipy/io/matlab/_mio5.py?line=331'>332</a>\u001b[0m     res \u001b[39m=\u001b[39m \u001b[39mself\u001b[39;49m\u001b[39m.\u001b[39;49mread_var_array(hdr, process)\n\u001b[1;32m    <a href='file:///Users/ilze/PhD/virtualenv/env3.8/lib/python3.8/site-packages/scipy/io/matlab/_mio5.py?line=332'>333</a>\u001b[0m \u001b[39mexcept\u001b[39;00m MatReadError \u001b[39mas\u001b[39;00m err:\n\u001b[1;32m    <a href='file:///Users/ilze/PhD/virtualenv/env3.8/lib/python3.8/site-packages/scipy/io/matlab/_mio5.py?line=333'>334</a>\u001b[0m     warnings\u001b[39m.\u001b[39mwarn(\n\u001b[1;32m    <a href='file:///Users/ilze/PhD/virtualenv/env3.8/lib/python3.8/site-packages/scipy/io/matlab/_mio5.py?line=334'>335</a>\u001b[0m         \u001b[39m'\u001b[39m\u001b[39mUnreadable variable \u001b[39m\u001b[39m\"\u001b[39m\u001b[39m%s\u001b[39;00m\u001b[39m\"\u001b[39m\u001b[39m, because \u001b[39m\u001b[39m\"\u001b[39m\u001b[39m%s\u001b[39;00m\u001b[39m\"\u001b[39m\u001b[39m'\u001b[39m \u001b[39m%\u001b[39m\n\u001b[1;32m    <a href='file:///Users/ilze/PhD/virtualenv/env3.8/lib/python3.8/site-packages/scipy/io/matlab/_mio5.py?line=335'>336</a>\u001b[0m         (name, err),\n\u001b[1;32m    <a href='file:///Users/ilze/PhD/virtualenv/env3.8/lib/python3.8/site-packages/scipy/io/matlab/_mio5.py?line=336'>337</a>\u001b[0m         \u001b[39mWarning\u001b[39;00m, stacklevel\u001b[39m=\u001b[39m\u001b[39m2\u001b[39m)\n",
      "File \u001b[0;32m~/PhD/virtualenv/env3.8/lib/python3.8/site-packages/scipy/io/matlab/_mio5.py:292\u001b[0m, in \u001b[0;36mMatFile5Reader.read_var_array\u001b[0;34m(self, header, process)\u001b[0m\n\u001b[1;32m    <a href='file:///Users/ilze/PhD/virtualenv/env3.8/lib/python3.8/site-packages/scipy/io/matlab/_mio5.py?line=274'>275</a>\u001b[0m \u001b[39mdef\u001b[39;00m \u001b[39mread_var_array\u001b[39m(\u001b[39mself\u001b[39m, header, process\u001b[39m=\u001b[39m\u001b[39mTrue\u001b[39;00m):\n\u001b[1;32m    <a href='file:///Users/ilze/PhD/virtualenv/env3.8/lib/python3.8/site-packages/scipy/io/matlab/_mio5.py?line=275'>276</a>\u001b[0m     \u001b[39m''' Read array, given `header`\u001b[39;00m\n\u001b[1;32m    <a href='file:///Users/ilze/PhD/virtualenv/env3.8/lib/python3.8/site-packages/scipy/io/matlab/_mio5.py?line=276'>277</a>\u001b[0m \n\u001b[1;32m    <a href='file:///Users/ilze/PhD/virtualenv/env3.8/lib/python3.8/site-packages/scipy/io/matlab/_mio5.py?line=277'>278</a>\u001b[0m \u001b[39m    Parameters\u001b[39;00m\n\u001b[0;32m   (...)\u001b[0m\n\u001b[1;32m    <a href='file:///Users/ilze/PhD/virtualenv/env3.8/lib/python3.8/site-packages/scipy/io/matlab/_mio5.py?line=289'>290</a>\u001b[0m \u001b[39m       `process`.\u001b[39;00m\n\u001b[1;32m    <a href='file:///Users/ilze/PhD/virtualenv/env3.8/lib/python3.8/site-packages/scipy/io/matlab/_mio5.py?line=290'>291</a>\u001b[0m \u001b[39m    '''\u001b[39;00m\n\u001b[0;32m--> <a href='file:///Users/ilze/PhD/virtualenv/env3.8/lib/python3.8/site-packages/scipy/io/matlab/_mio5.py?line=291'>292</a>\u001b[0m     \u001b[39mreturn\u001b[39;00m \u001b[39mself\u001b[39;49m\u001b[39m.\u001b[39;49m_matrix_reader\u001b[39m.\u001b[39;49marray_from_header(header, process)\n",
      "File \u001b[0;32m_mio5_utils.pyx:671\u001b[0m, in \u001b[0;36mscipy.io.matlab._mio5_utils.VarReader5.array_from_header\u001b[0;34m()\u001b[0m\n",
      "File \u001b[0;32m_mio5_utils.pyx:701\u001b[0m, in \u001b[0;36mscipy.io.matlab._mio5_utils.VarReader5.array_from_header\u001b[0;34m()\u001b[0m\n",
      "File \u001b[0;32m_mio5_utils.pyx:775\u001b[0m, in \u001b[0;36mscipy.io.matlab._mio5_utils.VarReader5.read_real_complex\u001b[0;34m()\u001b[0m\n",
      "File \u001b[0;32m_mio5_utils.pyx:448\u001b[0m, in \u001b[0;36mscipy.io.matlab._mio5_utils.VarReader5.read_numeric\u001b[0;34m()\u001b[0m\n",
      "File \u001b[0;32m_mio5_utils.pyx:353\u001b[0m, in \u001b[0;36mscipy.io.matlab._mio5_utils.VarReader5.read_element\u001b[0;34m()\u001b[0m\n",
      "File \u001b[0;32m_streams.pyx:78\u001b[0m, in \u001b[0;36mscipy.io.matlab._streams.GenericStream.read_string\u001b[0;34m()\u001b[0m\n",
      "File \u001b[0;32m_streams.pyx:65\u001b[0m, in \u001b[0;36mscipy.io.matlab._streams.GenericStream.read_into\u001b[0;34m()\u001b[0m\n",
      "\u001b[0;31mOSError\u001b[0m: could not read bytes"
     ]
    }
   ],
   "source": [
    "########### data ############ \n",
    "trainset, testset = load_data(data_root, task, plot=True)\n",
    "\n",
    "\n",
    "########### model ###########\n",
    "#odegpvae = ODEGPVAE(q=8,n_filt=16, device=device).to(device)"
   ]
  },
  {
   "cell_type": "code",
   "execution_count": 3,
   "metadata": {},
   "outputs": [
    {
     "data": {
      "text/plain": [
       "20"
      ]
     },
     "execution_count": 3,
     "metadata": {},
     "output_type": "execute_result"
    }
   ],
   "source": [
    "len(trainset)"
   ]
  },
  {
   "cell_type": "code",
   "execution_count": 52,
   "metadata": {},
   "outputs": [
    {
     "data": {
      "text/plain": [
       "True"
      ]
     },
     "execution_count": 52,
     "metadata": {},
     "output_type": "execute_result"
    }
   ],
   "source": [
    "next(odegpvae.ode_model.parameters()).is_cuda"
   ]
  },
  {
   "cell_type": "code",
   "execution_count": 53,
   "metadata": {},
   "outputs": [
    {
     "data": {
      "text/plain": [
       "True"
      ]
     },
     "execution_count": 53,
     "metadata": {},
     "output_type": "execute_result"
    }
   ],
   "source": [
    "next(odegpvae.parameters()).is_cuda"
   ]
  },
  {
   "cell_type": "code",
   "execution_count": 54,
   "metadata": {},
   "outputs": [
    {
     "data": {
      "text/plain": [
       "True"
      ]
     },
     "execution_count": 54,
     "metadata": {},
     "output_type": "execute_result"
    }
   ],
   "source": [
    "next(odegpvae.enc_s.parameters()).is_cuda"
   ]
  },
  {
   "cell_type": "code",
   "execution_count": 55,
   "metadata": {},
   "outputs": [
    {
     "data": {
      "text/plain": [
       "True"
      ]
     },
     "execution_count": 55,
     "metadata": {},
     "output_type": "execute_result"
    }
   ],
   "source": [
    "next(odegpvae.decoder.parameters()).is_cuda"
   ]
  },
  {
   "cell_type": "code",
   "execution_count": 56,
   "metadata": {},
   "outputs": [
    {
     "data": {
      "text/plain": [
       "True"
      ]
     },
     "execution_count": 56,
     "metadata": {},
     "output_type": "execute_result"
    }
   ],
   "source": [
    "next(odegpvae.enc_v.parameters()).is_cuda"
   ]
  },
  {
   "cell_type": "code",
   "execution_count": 57,
   "metadata": {},
   "outputs": [
    {
     "data": {
      "text/plain": [
       "device(type='cuda', index=0)"
      ]
     },
     "execution_count": 57,
     "metadata": {},
     "output_type": "execute_result"
    }
   ],
   "source": [
    "odegpvae.ode_model.svgp.device"
   ]
  },
  {
   "cell_type": "code",
   "execution_count": 3,
   "metadata": {},
   "outputs": [],
   "source": [
    "# ########### train ###########\n",
    "Nepoch = 500\n",
    "optimizer = torch.optim.Adam(odegpvae.parameters(),lr=1e-3)"
   ]
  },
  {
   "cell_type": "code",
   "execution_count": 39,
   "metadata": {},
   "outputs": [],
   "source": [
    "minibatch = next(iter(trainset)).to(device)"
   ]
  },
  {
   "cell_type": "code",
   "execution_count": 40,
   "metadata": {},
   "outputs": [],
   "source": [
    "X = minibatch"
   ]
  },
  {
   "cell_type": "code",
   "execution_count": 30,
   "metadata": {},
   "outputs": [],
   "source": [
    "[N,T,nc,d,d] = X.shape"
   ]
  },
  {
   "cell_type": "code",
   "execution_count": 31,
   "metadata": {},
   "outputs": [
    {
     "data": {
      "text/plain": [
       "torch.Size([25, 16, 1, 28, 28])"
      ]
     },
     "execution_count": 31,
     "metadata": {},
     "output_type": "execute_result"
    }
   ],
   "source": [
    "X.shape"
   ]
  },
  {
   "cell_type": "code",
   "execution_count": 8,
   "metadata": {},
   "outputs": [
    {
     "data": {
      "text/plain": [
       "torch.Size([25, 1, 28, 28])"
      ]
     },
     "execution_count": 8,
     "metadata": {},
     "output_type": "execute_result"
    }
   ],
   "source": [
    "X[:,0].shape"
   ]
  },
  {
   "cell_type": "code",
   "execution_count": 9,
   "metadata": {},
   "outputs": [],
   "source": [
    "#h = odegpvae.encoder(X[:,0])\n",
    "s0_mu, s0_logv = odegpvae.enc_s(X[:,0])"
   ]
  },
  {
   "cell_type": "code",
   "execution_count": 10,
   "metadata": {},
   "outputs": [],
   "source": [
    "v0_mu, v0_logv = odegpvae.enc_v(torch.squeeze(X[:,0:odegpvae.v_steps]))"
   ]
  },
  {
   "cell_type": "code",
   "execution_count": 66,
   "metadata": {},
   "outputs": [
    {
     "name": "stdout",
     "output_type": "stream",
     "text": [
      "torch.Size([25, 8]) torch.Size([25, 8])\n",
      "torch.Size([25, 8]) torch.Size([25, 8])\n"
     ]
    }
   ],
   "source": [
    "print(s0_mu.shape, s0_logv.shape)\n",
    "print(v0_mu.shape, v0_logv.shape)"
   ]
  },
  {
   "cell_type": "code",
   "execution_count": 11,
   "metadata": {},
   "outputs": [],
   "source": [
    "eps_s0   = torch.randn_like(s0_mu)\n",
    "eps_v0   = torch.randn_like(v0_mu)"
   ]
  },
  {
   "cell_type": "code",
   "execution_count": 68,
   "metadata": {},
   "outputs": [
    {
     "data": {
      "text/plain": [
       "True"
      ]
     },
     "execution_count": 68,
     "metadata": {},
     "output_type": "execute_result"
    }
   ],
   "source": [
    "eps_v0.is_cuda"
   ]
  },
  {
   "cell_type": "code",
   "execution_count": 12,
   "metadata": {},
   "outputs": [],
   "source": [
    "s0 = s0_mu + eps_s0*torch.exp(s0_logv) #N,q\n",
    "v0 = v0_mu + eps_v0*torch.exp(v0_logv) #N,q"
   ]
  },
  {
   "cell_type": "code",
   "execution_count": 70,
   "metadata": {},
   "outputs": [
    {
     "data": {
      "text/plain": [
       "True"
      ]
     },
     "execution_count": 70,
     "metadata": {},
     "output_type": "execute_result"
    }
   ],
   "source": [
    "odegpvae._zero_mean.is_cuda"
   ]
  },
  {
   "cell_type": "code",
   "execution_count": 14,
   "metadata": {},
   "outputs": [],
   "source": [
    "logp0 = odegpvae.mvn_q.log_prob(eps_s0) + odegpvae.mvn_q.log_prob(eps_v0) # N "
   ]
  },
  {
   "cell_type": "code",
   "execution_count": 15,
   "metadata": {},
   "outputs": [
    {
     "data": {
      "text/plain": [
       "torch.Size([25])"
      ]
     },
     "execution_count": 15,
     "metadata": {},
     "output_type": "execute_result"
    }
   ],
   "source": [
    "logp0.shape"
   ]
  },
  {
   "cell_type": "markdown",
   "metadata": {},
   "source": [
    "ode"
   ]
  },
  {
   "cell_type": "code",
   "execution_count": 15,
   "metadata": {},
   "outputs": [],
   "source": [
    "z0 = torch.concat([v0,s0],dim=1)"
   ]
  },
  {
   "cell_type": "code",
   "execution_count": 73,
   "metadata": {},
   "outputs": [
    {
     "data": {
      "text/plain": [
       "torch.Size([25, 16])"
      ]
     },
     "execution_count": 73,
     "metadata": {},
     "output_type": "execute_result"
    }
   ],
   "source": [
    "z0.shape"
   ]
  },
  {
   "cell_type": "code",
   "execution_count": 17,
   "metadata": {},
   "outputs": [
    {
     "data": {
      "text/plain": [
       "True"
      ]
     },
     "execution_count": 17,
     "metadata": {},
     "output_type": "execute_result"
    }
   ],
   "source": [
    "odegpvae.ode_model.svgp.Lzz.evaluate().is_cuda"
   ]
  },
  {
   "cell_type": "code",
   "execution_count": 16,
   "metadata": {},
   "outputs": [
    {
     "data": {
      "text/plain": [
       "True"
      ]
     },
     "execution_count": 16,
     "metadata": {},
     "output_type": "execute_result"
    }
   ],
   "source": [
    "odegpvae.ode_model.svgp.variational_strategy.variational_distribution.scale_tril.is_cuda"
   ]
  },
  {
   "cell_type": "code",
   "execution_count": 18,
   "metadata": {},
   "outputs": [],
   "source": [
    "gp_draw = odegpvae.ode_model.svgp.draw_posterior_function()\n",
    "oderhs = lambda t, x: odegpvae.ode_model.svgp.ode_rhs(t,x,gp_draw)"
   ]
  },
  {
   "cell_type": "code",
   "execution_count": 19,
   "metadata": {},
   "outputs": [],
   "source": [
    "from torchdiffeq import odeint\n",
    "ts  =  0.1 * torch.arange(T,dtype=torch.float).to(z0.device)\n",
    "zt, logp = odeint(oderhs, (z0, logp0), ts, method=\"euler\")"
   ]
  },
  {
   "cell_type": "code",
   "execution_count": 20,
   "metadata": {},
   "outputs": [],
   "source": [
    "ztL   = []\n",
    "logpL = []\n",
    "ztL.append(zt.permute([1,0,2]).unsqueeze(0)) # 1,N,T,2q\n",
    "logpL.append(logp.permute([1,0]).unsqueeze(0)) # 1,N,T\n",
    "ztL   = torch.cat(ztL,0)\n",
    "logpL = torch.cat(logpL)"
   ]
  },
  {
   "cell_type": "markdown",
   "metadata": {},
   "source": [
    "decode"
   ]
  },
  {
   "cell_type": "code",
   "execution_count": 31,
   "metadata": {},
   "outputs": [],
   "source": [
    "st_muL = ztL[:,:,:,8:] # L,N,T,q Only the position is decoded\n",
    "s = odegpvae.fc3(st_muL.contiguous().view([1*N*T,8]) ) # L*N*T,h_dim\n",
    "Xrec = odegpvae.decoder(s) # L*N*T,nc,d,d\n",
    "Xrec = Xrec.view([1,N,T,nc,d,d]) # L,N,T,nc,d,d"
   ]
  },
  {
   "cell_type": "code",
   "execution_count": 32,
   "metadata": {},
   "outputs": [
    {
     "data": {
      "text/plain": [
       "torch.Size([1, 25, 16, 1, 28, 28])"
      ]
     },
     "execution_count": 32,
     "metadata": {},
     "output_type": "execute_result"
    }
   ],
   "source": [
    "Xrec.shape"
   ]
  },
  {
   "cell_type": "markdown",
   "metadata": {},
   "source": [
    "Check data"
   ]
  },
  {
   "cell_type": "code",
   "execution_count": 43,
   "metadata": {},
   "outputs": [],
   "source": [
    "import scipy.io as sio"
   ]
  },
  {
   "cell_type": "code",
   "execution_count": 42,
   "metadata": {},
   "outputs": [],
   "source": [
    "fullname = os.path.join('data/', \"rot_mnist\", \"rot-mnist.mat\")"
   ]
  },
  {
   "cell_type": "code",
   "execution_count": 44,
   "metadata": {},
   "outputs": [],
   "source": [
    "dataset = sio.loadmat(fullname)"
   ]
  },
  {
   "cell_type": "code",
   "execution_count": 45,
   "metadata": {},
   "outputs": [],
   "source": [
    "X = np.squeeze(dataset['X'])"
   ]
  },
  {
   "cell_type": "code",
   "execution_count": 47,
   "metadata": {},
   "outputs": [
    {
     "name": "stdout",
     "output_type": "stream",
     "text": [
      "__header__\n",
      "__version__\n",
      "__globals__\n",
      "X\n",
      "Y\n"
     ]
    }
   ],
   "source": [
    "for key in dataset:\n",
    "    print(key)"
   ]
  },
  {
   "cell_type": "code",
   "execution_count": 48,
   "metadata": {},
   "outputs": [
    {
     "data": {
      "text/plain": [
       "array([[[0.],\n",
       "        [7.],\n",
       "        [1.],\n",
       "        ...,\n",
       "        [4.],\n",
       "        [3.],\n",
       "        [2.]]])"
      ]
     },
     "execution_count": 48,
     "metadata": {},
     "output_type": "execute_result"
    }
   ],
   "source": [
    "dataset['Y']"
   ]
  },
  {
   "cell_type": "code",
   "execution_count": 54,
   "metadata": {},
   "outputs": [],
   "source": [
    "Ys = np.squeeze(dataset['Y'])"
   ]
  },
  {
   "cell_type": "code",
   "execution_count": 75,
   "metadata": {},
   "outputs": [],
   "source": [
    "mask = Ys[]"
   ]
  },
  {
   "cell_type": "code",
   "execution_count": 55,
   "metadata": {},
   "outputs": [
    {
     "ename": "IndexError",
     "evalue": "Inconsistent shape between the condition and the input (got (10000,) and (10000, 16, 784))",
     "output_type": "error",
     "traceback": [
      "\u001b[0;31m---------------------------------------------------------------------------\u001b[0m",
      "\u001b[0;31mIndexError\u001b[0m                                Traceback (most recent call last)",
      "\u001b[1;32m/home/ilze/PhD/OdeVaeGP/experiments/main.ipynb Cell 45\u001b[0m in \u001b[0;36m<cell line: 1>\u001b[0;34m()\u001b[0m\n\u001b[0;32m----> <a href='vscode-notebook-cell:/home/ilze/PhD/OdeVaeGP/experiments/main.ipynb#ch0000043?line=0'>1</a>\u001b[0m X_masked \u001b[39m=\u001b[39m np\u001b[39m.\u001b[39;49mma\u001b[39m.\u001b[39;49mmasked_where(Ys\u001b[39m==\u001b[39;49m\u001b[39m3\u001b[39;49m,X)\n",
      "File \u001b[0;32m~/virtualenv/venv3.8/lib/python3.8/site-packages/numpy/ma/core.py:1935\u001b[0m, in \u001b[0;36mmasked_where\u001b[0;34m(condition, a, copy)\u001b[0m\n\u001b[1;32m   1933\u001b[0m (cshape, ashape) \u001b[39m=\u001b[39m (cond\u001b[39m.\u001b[39mshape, a\u001b[39m.\u001b[39mshape)\n\u001b[1;32m   1934\u001b[0m \u001b[39mif\u001b[39;00m cshape \u001b[39mand\u001b[39;00m cshape \u001b[39m!=\u001b[39m ashape:\n\u001b[0;32m-> 1935\u001b[0m     \u001b[39mraise\u001b[39;00m \u001b[39mIndexError\u001b[39;00m(\u001b[39m\"\u001b[39m\u001b[39mInconsistent shape between the condition and the input\u001b[39m\u001b[39m\"\u001b[39m\n\u001b[1;32m   1936\u001b[0m                      \u001b[39m\"\u001b[39m\u001b[39m (got \u001b[39m\u001b[39m%s\u001b[39;00m\u001b[39m and \u001b[39m\u001b[39m%s\u001b[39;00m\u001b[39m)\u001b[39m\u001b[39m\"\u001b[39m \u001b[39m%\u001b[39m (cshape, ashape))\n\u001b[1;32m   1937\u001b[0m \u001b[39mif\u001b[39;00m \u001b[39mhasattr\u001b[39m(a, \u001b[39m'\u001b[39m\u001b[39m_mask\u001b[39m\u001b[39m'\u001b[39m):\n\u001b[1;32m   1938\u001b[0m     cond \u001b[39m=\u001b[39m mask_or(cond, a\u001b[39m.\u001b[39m_mask)\n",
      "\u001b[0;31mIndexError\u001b[0m: Inconsistent shape between the condition and the input (got (10000,) and (10000, 16, 784))"
     ]
    }
   ],
   "source": [
    "X_masked = np.ma.masked_where(Ys==3,X)"
   ]
  },
  {
   "cell_type": "code",
   "execution_count": 60,
   "metadata": {},
   "outputs": [
    {
     "data": {
      "text/plain": [
       "(982, 16, 784)"
      ]
     },
     "execution_count": 60,
     "metadata": {},
     "output_type": "execute_result"
    }
   ],
   "source": [
    "X[Ys==9,:,:].shape"
   ]
  },
  {
   "cell_type": "code",
   "execution_count": 61,
   "metadata": {},
   "outputs": [
    {
     "data": {
      "text/plain": [
       "array([[[0.        , 0.        , 0.        , ..., 0.        ,\n",
       "         0.        , 0.        ],\n",
       "        [0.08260946, 0.08260946, 0.08260946, ..., 0.08260946,\n",
       "         0.08260946, 0.08260946],\n",
       "        [0.07876532, 0.07876532, 0.07876532, ..., 0.07876532,\n",
       "         0.07876532, 0.07876532],\n",
       "        ...,\n",
       "        [0.080609  , 0.080609  , 0.080609  , ..., 0.080609  ,\n",
       "         0.080609  , 0.080609  ],\n",
       "        [0.08547502, 0.08547502, 0.08547502, ..., 0.08547502,\n",
       "         0.08547502, 0.08547502],\n",
       "        [0.00048756, 0.00048756, 0.00048756, ..., 0.00048756,\n",
       "         0.00048756, 0.00048756]],\n",
       "\n",
       "       [[0.        , 0.        , 0.        , ..., 0.        ,\n",
       "         0.        , 0.        ],\n",
       "        [0.06745703, 0.06745703, 0.06745703, ..., 0.06745703,\n",
       "         0.06745703, 0.06745703],\n",
       "        [0.07662455, 0.07662455, 0.07662455, ..., 0.07662455,\n",
       "         0.07662455, 0.07662455],\n",
       "        ...,\n",
       "        [0.08402812, 0.08402812, 0.08402812, ..., 0.08402812,\n",
       "         0.08402812, 0.08402812],\n",
       "        [0.08177631, 0.08177631, 0.08177631, ..., 0.08177631,\n",
       "         0.08177631, 0.08177631],\n",
       "        [0.00088417, 0.00088417, 0.00088417, ..., 0.00088417,\n",
       "         0.00088417, 0.00088417]],\n",
       "\n",
       "       [[0.        , 0.        , 0.        , ..., 0.        ,\n",
       "         0.        , 0.        ],\n",
       "        [0.11044965, 0.11044965, 0.11044965, ..., 0.11044965,\n",
       "         0.11044965, 0.11044965],\n",
       "        [0.09187335, 0.09187335, 0.09187335, ..., 0.09187335,\n",
       "         0.09187335, 0.09187335],\n",
       "        ...,\n",
       "        [0.10493393, 0.10493393, 0.10493393, ..., 0.10493393,\n",
       "         0.10493393, 0.10493393],\n",
       "        [0.09633901, 0.09633901, 0.09633901, ..., 0.09633901,\n",
       "         0.09633901, 0.09633901],\n",
       "        [0.00097899, 0.00097899, 0.00097899, ..., 0.00097899,\n",
       "         0.00097899, 0.00097899]],\n",
       "\n",
       "       ...,\n",
       "\n",
       "       [[0.        , 0.        , 0.        , ..., 0.        ,\n",
       "         0.        , 0.        ],\n",
       "        [0.07192834, 0.07192834, 0.07192834, ..., 0.07192834,\n",
       "         0.07192834, 0.07192834],\n",
       "        [0.06707613, 0.06707613, 0.06707613, ..., 0.06707613,\n",
       "         0.06707613, 0.06707613],\n",
       "        ...,\n",
       "        [0.08445094, 0.08445094, 0.08445094, ..., 0.08445094,\n",
       "         0.08445094, 0.08445094],\n",
       "        [0.08528348, 0.08528348, 0.08528348, ..., 0.08528348,\n",
       "         0.08528348, 0.08528348],\n",
       "        [0.00097366, 0.00097366, 0.00097366, ..., 0.00097366,\n",
       "         0.00097366, 0.00097366]],\n",
       "\n",
       "       [[0.        , 0.        , 0.        , ..., 0.        ,\n",
       "         0.        , 0.        ],\n",
       "        [0.09741874, 0.09741874, 0.09741874, ..., 0.09741874,\n",
       "         0.09741874, 0.09741874],\n",
       "        [0.10529299, 0.10529299, 0.10529299, ..., 0.10529299,\n",
       "         0.10529299, 0.10529299],\n",
       "        ...,\n",
       "        [0.09801936, 0.09801936, 0.09801936, ..., 0.09801936,\n",
       "         0.09801936, 0.09801936],\n",
       "        [0.09830425, 0.09830425, 0.09830425, ..., 0.09830425,\n",
       "         0.09830425, 0.09830425],\n",
       "        [0.00086996, 0.00086996, 0.00086996, ..., 0.00086996,\n",
       "         0.00086996, 0.00086996]],\n",
       "\n",
       "       [[0.        , 0.        , 0.        , ..., 0.        ,\n",
       "         0.        , 0.        ],\n",
       "        [0.0930668 , 0.0930668 , 0.0930668 , ..., 0.0930668 ,\n",
       "         0.0930668 , 0.0930668 ],\n",
       "        [0.07586251, 0.07586251, 0.07586251, ..., 0.07586251,\n",
       "         0.07586251, 0.07586251],\n",
       "        ...,\n",
       "        [0.1017058 , 0.1017058 , 0.1017058 , ..., 0.1017058 ,\n",
       "         0.1017058 , 0.1017058 ],\n",
       "        [0.09674091, 0.09674091, 0.09674091, ..., 0.09674091,\n",
       "         0.09674091, 0.09674091],\n",
       "        [0.00068807, 0.00068807, 0.00068807, ..., 0.00068807,\n",
       "         0.00068807, 0.00068807]]])"
      ]
     },
     "execution_count": 61,
     "metadata": {},
     "output_type": "execute_result"
    }
   ],
   "source": [
    "X"
   ]
  },
  {
   "cell_type": "code",
   "execution_count": null,
   "metadata": {},
   "outputs": [],
   "source": []
  }
 ],
 "metadata": {
  "kernelspec": {
   "display_name": "env3.8-kernel",
   "language": "python",
   "name": "env3.8-kernel"
  },
  "language_info": {
   "codemirror_mode": {
    "name": "ipython",
    "version": 3
   },
   "file_extension": ".py",
   "mimetype": "text/x-python",
   "name": "python",
   "nbconvert_exporter": "python",
   "pygments_lexer": "ipython3",
   "version": "3.8.5"
  },
  "orig_nbformat": 4,
  "vscode": {
   "interpreter": {
    "hash": "916dbcbb3f70747c44a77c7bcd40155683ae19c65e1c03b4aa3499c5328201f1"
   }
  }
 },
 "nbformat": 4,
 "nbformat_minor": 2
}
